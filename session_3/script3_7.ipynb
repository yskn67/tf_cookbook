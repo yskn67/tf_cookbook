{
 "cells": [
  {
   "cell_type": "code",
   "execution_count": 1,
   "metadata": {},
   "outputs": [],
   "source": [
    "import matplotlib.pyplot as plt\n",
    "import numpy as np\n",
    "import tensorflow as tf\n",
    "from sklearn import datasets\n",
    "from tensorflow.python.framework import ops"
   ]
  },
  {
   "cell_type": "code",
   "execution_count": 2,
   "metadata": {},
   "outputs": [],
   "source": [
    "iris = datasets.load_iris()\n",
    "x_vals = np.array([x[3] for x in iris.data])\n",
    "y_vals = np.array([y[0] for y in iris.data])"
   ]
  },
  {
   "cell_type": "code",
   "execution_count": 3,
   "metadata": {},
   "outputs": [
    {
     "name": "stdout",
     "output_type": "stream",
     "text": [
      "Step #300 A = [[0.826369]] b = [[2.3999534]]\n",
      "Loss = [[6.708206]]\n",
      "Step #600 A = [[0.82017547]] b = [[3.5112178]]\n",
      "Loss = [[2.2006557]]\n",
      "Step #900 A = [[0.8138716]] b = [[4.1201754]]\n",
      "Loss = [[0.89698446]]\n",
      "Step #1200 A = [[0.808059]] b = [[4.461505]]\n",
      "Loss = [[0.36339402]]\n",
      "Step #1500 A = [[0.8026162]] b = [[4.647093]]\n",
      "Loss = [[0.20017123]]\n"
     ]
    }
   ],
   "source": [
    "ops.reset_default_graph()\n",
    "with tf.Session() as sess:\n",
    "    lr = 0.001\n",
    "    bs = 50\n",
    "    it = 1500\n",
    "    \n",
    "    x_data = tf.placeholder(shape=[None, 1], dtype=tf.float32)\n",
    "    y_target = tf.placeholder(shape=[None, 1], dtype=tf.float32)\n",
    "    \n",
    "    A = tf.Variable(tf.random_normal(shape=[1, 1]))\n",
    "    b = tf.Variable(tf.random_normal(shape=[1, 1]))\n",
    "    model_output = tf.add(tf.matmul(x_data, A), b)\n",
    "    lasso_param = tf.constant(0.9)\n",
    "    heavyside_step = tf.truediv(1., tf.add(1., tf.exp(tf.multiply(-100.,\n",
    "                                               tf.subtract(A, lasso_param)))))\n",
    "    regularization_param = tf.multiply(heavyside_step, 99.)\n",
    "    loss = tf.add(tf.reduce_mean(tf.square(y_target - model_output)), regularization_param)\n",
    "    \n",
    "    init = tf.global_variables_initializer()\n",
    "    sess.run(init)\n",
    "    \n",
    "    my_opt = tf.train.GradientDescentOptimizer(lr)\n",
    "    train_step = my_opt.minimize(loss)\n",
    "    \n",
    "    loss_vec = []\n",
    "    for i in range(it):\n",
    "        rand_index = np.random.choice(len(x_vals), size=bs)\n",
    "        rand_x = np.transpose([x_vals[rand_index]])\n",
    "        rand_y = np.transpose([y_vals[rand_index]])\n",
    "        sess.run(train_step, feed_dict={x_data: rand_x, y_target: rand_y})\n",
    "        temp_loss = sess.run(loss, feed_dict={x_data: rand_x, y_target: rand_y})\n",
    "        loss_vec.append(temp_loss[0])\n",
    "        if (i + 1) % 300 == 0:\n",
    "            print('Step #' + str(i + 1) + ' A = ' + str(sess.run(A)) + ' b = ' + str(sess.run(b)))\n",
    "            print('Loss = ' + str(temp_loss))\n",
    "    \n",
    "    [slope] = sess.run(A)\n",
    "    [y_intercept] = sess.run(b)"
   ]
  },
  {
   "cell_type": "code",
   "execution_count": 4,
   "metadata": {},
   "outputs": [
    {
     "name": "stdout",
     "output_type": "stream",
     "text": [
      "Step #300 A = [[2.0012584]] b = [[1.1482232]]\n",
      "Loss = [12.168282]\n",
      "Step #600 A = [[1.7853329]] b = [[2.2408018]]\n",
      "Loss = [6.0835094]\n",
      "Step #900 A = [[1.4634893]] b = [[3.0008361]]\n",
      "Loss = [4.1005025]\n",
      "Step #1200 A = [[1.2014781]] b = [[3.5745404]]\n",
      "Loss = [2.3351908]\n",
      "Step #1500 A = [[0.99788755]] b = [[4.0118756]]\n",
      "Loss = [1.6311786]\n"
     ]
    }
   ],
   "source": [
    "ops.reset_default_graph()\n",
    "with tf.Session() as sess:\n",
    "    lr = 0.001\n",
    "    bs = 50\n",
    "    it = 1500\n",
    "    \n",
    "    x_data = tf.placeholder(shape=[None, 1], dtype=tf.float32)\n",
    "    y_target = tf.placeholder(shape=[None, 1], dtype=tf.float32)\n",
    "    \n",
    "    A = tf.Variable(tf.random_normal(shape=[1, 1]))\n",
    "    b = tf.Variable(tf.random_normal(shape=[1, 1]))\n",
    "    model_output = tf.add(tf.matmul(x_data, A), b)\n",
    "    ridge_param = tf.constant(1.)\n",
    "    ridge_loss = tf.reduce_mean(tf.square(A))\n",
    "    loss = tf.expand_dims(tf.add(tf.reduce_mean(tf.square(y_target - model_output)),\n",
    "                                 tf.multiply(ridge_param, ridge_loss)), 0)\n",
    "\n",
    "    init = tf.global_variables_initializer()\n",
    "    sess.run(init)\n",
    "    \n",
    "    my_opt = tf.train.GradientDescentOptimizer(lr)\n",
    "    train_step = my_opt.minimize(loss)\n",
    "    \n",
    "    loss_vec = []\n",
    "    for i in range(it):\n",
    "        rand_index = np.random.choice(len(x_vals), size=bs)\n",
    "        rand_x = np.transpose([x_vals[rand_index]])\n",
    "        rand_y = np.transpose([y_vals[rand_index]])\n",
    "        sess.run(train_step, feed_dict={x_data: rand_x, y_target: rand_y})\n",
    "        temp_loss = sess.run(loss, feed_dict={x_data: rand_x, y_target: rand_y})\n",
    "        loss_vec.append(temp_loss[0])\n",
    "        if (i + 1) % 300 == 0:\n",
    "            print('Step #' + str(i + 1) + ' A = ' + str(sess.run(A)) + ' b = ' + str(sess.run(b)))\n",
    "            print('Loss = ' + str(temp_loss))\n",
    "    \n",
    "    [slope] = sess.run(A)\n",
    "    [y_intercept] = sess.run(b)"
   ]
  },
  {
   "cell_type": "code",
   "execution_count": null,
   "metadata": {},
   "outputs": [],
   "source": []
  }
 ],
 "metadata": {
  "kernelspec": {
   "display_name": "Python 3",
   "language": "python",
   "name": "python3"
  },
  "language_info": {
   "codemirror_mode": {
    "name": "ipython",
    "version": 3
   },
   "file_extension": ".py",
   "mimetype": "text/x-python",
   "name": "python",
   "nbconvert_exporter": "python",
   "pygments_lexer": "ipython3",
   "version": "3.6.3"
  }
 },
 "nbformat": 4,
 "nbformat_minor": 2
}
