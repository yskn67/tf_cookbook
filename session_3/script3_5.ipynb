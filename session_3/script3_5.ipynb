{
 "cells": [
  {
   "cell_type": "code",
   "execution_count": 18,
   "metadata": {},
   "outputs": [],
   "source": [
    "import matplotlib.pyplot as plt\n",
    "import numpy as np\n",
    "import tensorflow as tf\n",
    "from sklearn import datasets\n",
    "from tensorflow.python.framework import ops"
   ]
  },
  {
   "cell_type": "code",
   "execution_count": 19,
   "metadata": {},
   "outputs": [],
   "source": [
    "iris = datasets.load_iris()\n",
    "x_vals = np.array([x[3] for x in iris.data])\n",
    "y_vals = np.array([y[0] for y in iris.data])"
   ]
  },
  {
   "cell_type": "code",
   "execution_count": 23,
   "metadata": {},
   "outputs": [
    {
     "name": "stdout",
     "output_type": "stream",
     "text": [
      "Step #25 A = [[2.4072437]] b = [[1.928442]]\n",
      "Loss = 1.5061603\n",
      "Step #50 A = [[2.1828444]] b = [[2.788442]]\n",
      "Loss = 1.1517581\n"
     ]
    }
   ],
   "source": [
    "ops.reset_default_graph()\n",
    "with tf.Session() as sess:\n",
    "    lr = 0.1\n",
    "    bs = 25\n",
    "    it = 50\n",
    "    \n",
    "    x_data = tf.placeholder(shape=[None, 1], dtype=tf.float32)\n",
    "    y_target = tf.placeholder(shape=[None, 1], dtype=tf.float32)\n",
    "    \n",
    "    A = tf.Variable(tf.random_normal(shape=[1, 1]))\n",
    "    b = tf.Variable(tf.random_normal(shape=[1, 1]))\n",
    "    model_output = tf.add(tf.matmul(x_data, A), b)\n",
    "    loss_l1 = tf.reduce_mean(tf.abs(y_target - model_output))\n",
    "    \n",
    "    init = tf.global_variables_initializer()\n",
    "    sess.run(init)\n",
    "    \n",
    "    my_opt_l1 = tf.train.GradientDescentOptimizer(lr)\n",
    "    train_step_l1 = my_opt_l1.minimize(loss_l1)\n",
    "    \n",
    "    loss_vec_l1 = []\n",
    "    for i in range(it):\n",
    "        rand_index = np.random.choice(len(x_vals), size=bs)\n",
    "        rand_x = np.transpose([x_vals[rand_index]])\n",
    "        rand_y = np.transpose([y_vals[rand_index]])\n",
    "        sess.run(train_step_l1, feed_dict={x_data: rand_x, y_target: rand_y})\n",
    "        temp_loss = sess.run(loss_l1, feed_dict={x_data: rand_x, y_target: rand_y})\n",
    "        loss_vec_l1.append(temp_loss)\n",
    "        if (i + 1) % 25 == 0:\n",
    "            print('Step #' + str(i + 1) + ' A = ' + str(sess.run(A)) + ' b = ' + str(sess.run(b)))\n",
    "            print('Loss = ' + str(temp_loss))"
   ]
  },
  {
   "cell_type": "code",
   "execution_count": 24,
   "metadata": {},
   "outputs": [
    {
     "name": "stdout",
     "output_type": "stream",
     "text": [
      "Step #25 A = [[1.8100066]] b = [[3.5385623]]\n",
      "Loss = 0.59495527\n",
      "Step #50 A = [[1.1501669]] b = [[4.2738285]]\n",
      "Loss = 0.41740292\n"
     ]
    }
   ],
   "source": [
    "ops.reset_default_graph()\n",
    "with tf.Session() as sess:\n",
    "    lr = 0.1\n",
    "    bs = 25\n",
    "    it = 50\n",
    "    \n",
    "    x_data = tf.placeholder(shape=[None, 1], dtype=tf.float32)\n",
    "    y_target = tf.placeholder(shape=[None, 1], dtype=tf.float32)\n",
    "    \n",
    "    A = tf.Variable(tf.random_normal(shape=[1, 1]))\n",
    "    b = tf.Variable(tf.random_normal(shape=[1, 1]))\n",
    "    model_output = tf.add(tf.matmul(x_data, A), b)\n",
    "    loss_l2 = tf.reduce_mean(tf.square(y_target - model_output))\n",
    "    \n",
    "    init = tf.global_variables_initializer()\n",
    "    sess.run(init)\n",
    "    \n",
    "    my_opt_l2 = tf.train.GradientDescentOptimizer(lr)\n",
    "    train_step_l2 = my_opt_l1.minimize(loss_l2)\n",
    "    \n",
    "    loss_vec_l2 = []\n",
    "    for i in range(it):\n",
    "        rand_index = np.random.choice(len(x_vals), size=bs)\n",
    "        rand_x = np.transpose([x_vals[rand_index]])\n",
    "        rand_y = np.transpose([y_vals[rand_index]])\n",
    "        sess.run(train_step_l2, feed_dict={x_data: rand_x, y_target: rand_y})\n",
    "        temp_loss = sess.run(loss_l2, feed_dict={x_data: rand_x, y_target: rand_y})\n",
    "        loss_vec_l2.append(temp_loss)\n",
    "        if (i + 1) % 25 == 0:\n",
    "            print('Step #' + str(i + 1) + ' A = ' + str(sess.run(A)) + ' b = ' + str(sess.run(b)))\n",
    "            print('Loss = ' + str(temp_loss))"
   ]
  },
  {
   "cell_type": "code",
   "execution_count": 25,
   "metadata": {},
   "outputs": [
    {
     "data": {
      "image/png": "[encoded data removed]",
      "text/plain": [
       "<matplotlib.figure.Figure at 0x7f23687bb9b0>"
      ]
     },
     "metadata": {},
     "output_type": "display_data"
    }
   ],
   "source": [
    "plt.plot(loss_vec_l1, 'k-', label='L1 Loss')\n",
    "plt.plot(loss_vec_l2, 'r--', label='L2 Loss')\n",
    "plt.title('L1 and L2 Loss per Generation')\n",
    "plt.xlabel('Generation')\n",
    "plt.ylabel('L1 Loss')\n",
    "plt.legend(loc='upper right')\n",
    "plt.show()"
   ]
  },
  {
   "cell_type": "code",
   "execution_count": 17,
   "metadata": {},
   "outputs": [
    {
     "data": {
      "text/plain": [
       "[]"
      ]
     },
     "execution_count": 17,
     "metadata": {},
     "output_type": "execute_result"
    }
   ],
   "source": [
    "loss_vec_l2"
   ]
  },
  {
   "cell_type": "code",
   "execution_count": null,
   "metadata": {},
   "outputs": [],
   "source": []
  }
 ],
 "metadata": {
  "kernelspec": {
   "display_name": "Python 3",
   "language": "python",
   "name": "python3"
  },
  "language_info": {
   "codemirror_mode": {
    "name": "ipython",
    "version": 3
   },
   "file_extension": ".py",
   "mimetype": "text/x-python",
   "name": "python",
   "nbconvert_exporter": "python",
   "pygments_lexer": "ipython3",
   "version": "3.6.3"
  }
 },
 "nbformat": 4,
 "nbformat_minor": 2
}
