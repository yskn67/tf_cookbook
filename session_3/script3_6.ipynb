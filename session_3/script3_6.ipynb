{
 "cells": [
  {
   "cell_type": "code",
   "execution_count": 1,
   "metadata": {},
   "outputs": [],
   "source": [
    "import matplotlib.pyplot as plt\n",
    "import numpy as np\n",
    "import tensorflow as tf\n",
    "from sklearn import datasets\n",
    "from tensorflow.python.framework import ops"
   ]
  },
  {
   "cell_type": "code",
   "execution_count": 2,
   "metadata": {},
   "outputs": [],
   "source": [
    "iris = datasets.load_iris()\n",
    "x_vals = np.array([x[3] for x in iris.data])\n",
    "y_vals = np.array([y[0] for y in iris.data])"
   ]
  },
  {
   "cell_type": "code",
   "execution_count": 6,
   "metadata": {},
   "outputs": [
    {
     "name": "stdout",
     "output_type": "stream",
     "text": [
      "Step #100 A = [[3.6118543]] b = [[0.9775586]]\n",
      "Loss = 0.50650465\n",
      "Step #200 A = [[3.1907508]] b = [[1.5648339]]\n",
      "Loss = 0.53944975\n",
      "Step #300 A = [[2.6623826]] b = [[2.3035345]]\n",
      "Loss = 0.43885696\n",
      "Step #400 A = [[1.9610522]] b = [[3.2663515]]\n",
      "Loss = 0.35798535\n",
      "Step #500 A = [[1.1295817]] b = [[4.5170975]]\n",
      "Loss = 0.26625022\n",
      "Step #600 A = [[0.99495494]] b = [[4.628428]]\n",
      "Loss = 0.26333615\n",
      "Step #700 A = [[0.9423726]] b = [[4.636665]]\n",
      "Loss = 0.29955137\n",
      "Step #800 A = [[0.97919685]] b = [[4.558765]]\n",
      "Loss = 0.2810499\n",
      "Step #900 A = [[1.0483657]] b = [[4.5895004]]\n",
      "Loss = 0.2660002\n",
      "Step #1000 A = [[1.0094776]] b = [[4.6001086]]\n",
      "Loss = 0.28986007\n",
      "Step #1100 A = [[1.0071746]] b = [[4.6886444]]\n",
      "Loss = 0.24012741\n",
      "Step #1200 A = [[1.0130152]] b = [[4.588716]]\n",
      "Loss = 0.27710104\n",
      "Step #1300 A = [[0.9770413]] b = [[4.587991]]\n",
      "Loss = 0.25924325\n",
      "Step #1400 A = [[1.0302942]] b = [[4.638792]]\n",
      "Loss = 0.27341452\n",
      "Step #1500 A = [[1.003881]] b = [[4.6218057]]\n",
      "Loss = 0.28888202\n"
     ]
    }
   ],
   "source": [
    "ops.reset_default_graph()\n",
    "with tf.Session() as sess:\n",
    "    lr = 0.25\n",
    "    bs = 50\n",
    "    it = 1500\n",
    "    \n",
    "    x_data = tf.placeholder(shape=[None, 1], dtype=tf.float32)\n",
    "    y_target = tf.placeholder(shape=[None, 1], dtype=tf.float32)\n",
    "    \n",
    "    A = tf.Variable(tf.random_normal(shape=[1, 1]))\n",
    "    b = tf.Variable(tf.random_normal(shape=[1, 1]))\n",
    "    model_output = tf.add(tf.matmul(x_data, A), b)\n",
    "    demming_numerator = tf.abs(tf.subtract(y_target, tf.add(tf.matmul(x_data, A), b)))\n",
    "    demming_denominator = tf.sqrt(tf.add(tf.square(A), 1))\n",
    "    loss = tf.reduce_mean(tf.truediv(demming_numerator, demming_denominator))\n",
    "    \n",
    "    init = tf.global_variables_initializer()\n",
    "    sess.run(init)\n",
    "    \n",
    "    my_opt = tf.train.GradientDescentOptimizer(lr)\n",
    "    train_step = my_opt.minimize(loss)\n",
    "    \n",
    "    loss_vec = []\n",
    "    for i in range(it):\n",
    "        rand_index = np.random.choice(len(x_vals), size=bs)\n",
    "        rand_x = np.transpose([x_vals[rand_index]])\n",
    "        rand_y = np.transpose([y_vals[rand_index]])\n",
    "        sess.run(train_step, feed_dict={x_data: rand_x, y_target: rand_y})\n",
    "        temp_loss = sess.run(loss, feed_dict={x_data: rand_x, y_target: rand_y})\n",
    "        loss_vec.append(temp_loss)\n",
    "        if (i + 1) % 100 == 0:\n",
    "            print('Step #' + str(i + 1) + ' A = ' + str(sess.run(A)) + ' b = ' + str(sess.run(b)))\n",
    "            print('Loss = ' + str(temp_loss))\n",
    "    \n",
    "    [slope] = sess.run(A)\n",
    "    [y_intercept] = sess.run(b)"
   ]
  },
  {
   "cell_type": "code",
   "execution_count": 7,
   "metadata": {},
   "outputs": [],
   "source": [
    "best_fit = []\n",
    "for i in x_vals:\n",
    "    best_fit.append(slope * i + y_intercept)"
   ]
  },
  {
   "cell_type": "code",
   "execution_count": 9,
   "metadata": {},
   "outputs": [
    {
     "data": {
      "image/png": "[encoded data removed]",
      "text/plain": [
       "<matplotlib.figure.Figure at 0x7f682c376630>"
      ]
     },
     "metadata": {},
     "output_type": "display_data"
    }
   ],
   "source": [
    "plt.plot(x_vals, y_vals, 'o', label='Data Points')\n",
    "plt.plot(x_vals, best_fit, 'r-', label='Best fit line', linewidth=3)\n",
    "plt.legend(loc='upper left')\n",
    "plt.title('Sepal Length vs Pedal Width')\n",
    "plt.xlabel('Pedal Width')\n",
    "plt.ylabel('Sepal Length')\n",
    "plt.show()"
   ]
  },
  {
   "cell_type": "code",
   "execution_count": null,
   "metadata": {},
   "outputs": [],
   "source": []
  }
 ],
 "metadata": {
  "kernelspec": {
   "display_name": "Python 3",
   "language": "python",
   "name": "python3"
  },
  "language_info": {
   "codemirror_mode": {
    "name": "ipython",
    "version": 3
   },
   "file_extension": ".py",
   "mimetype": "text/x-python",
   "name": "python",
   "nbconvert_exporter": "python",
   "pygments_lexer": "ipython3",
   "version": "3.6.3"
  }
 },
 "nbformat": 4,
 "nbformat_minor": 2
}
