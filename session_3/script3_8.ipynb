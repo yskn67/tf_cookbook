{
 "cells": [
  {
   "cell_type": "code",
   "execution_count": 1,
   "metadata": {},
   "outputs": [],
   "source": [
    "import matplotlib.pyplot as plt\n",
    "import numpy as np\n",
    "import tensorflow as tf\n",
    "from sklearn import datasets\n",
    "from tensorflow.python.framework import ops"
   ]
  },
  {
   "cell_type": "code",
   "execution_count": 2,
   "metadata": {},
   "outputs": [],
   "source": [
    "iris = datasets.load_iris()\n",
    "x_vals = np.array([[x[1], x[2], x[3]] for x in iris.data])\n",
    "y_vals = np.array([y[0] for y in iris.data])"
   ]
  },
  {
   "cell_type": "code",
   "execution_count": 5,
   "metadata": {},
   "outputs": [
    {
     "name": "stdout",
     "output_type": "stream",
     "text": [
      "Step #250 A = [[ 0.39550552]\n",
      " [ 1.3751032 ]\n",
      " [-0.7850554 ]] b = [[-0.00230194]]\n",
      "Loss = [3.513591]\n",
      "Step #500 A = [[ 0.75624377]\n",
      " [ 1.043446  ]\n",
      " [-0.6550284 ]] b = [[0.15386169]]\n",
      "Loss = [1.7608149]\n",
      "Step #750 A = [[ 0.8857899]\n",
      " [ 0.8708323]\n",
      " [-0.4883598]] b = [[0.26206383]]\n",
      "Loss = [1.5299518]\n",
      "Step #1000 A = [[ 0.9258124]\n",
      " [ 0.7665181]\n",
      " [-0.3275787]] b = [[0.35148543]]\n",
      "Loss = [1.3913739]\n"
     ]
    }
   ],
   "source": [
    "ops.reset_default_graph()\n",
    "with tf.Session() as sess:\n",
    "    lr = 0.001\n",
    "    bs = 50\n",
    "    it = 1000\n",
    "    \n",
    "    x_data = tf.placeholder(shape=[None, 3], dtype=tf.float32)\n",
    "    y_target = tf.placeholder(shape=[None, 1], dtype=tf.float32)\n",
    "    \n",
    "    A = tf.Variable(tf.random_normal(shape=[3, 1]))\n",
    "    b = tf.Variable(tf.random_normal(shape=[1, 1]))\n",
    "    model_output = tf.add(tf.matmul(x_data, A), b)\n",
    "    \n",
    "    elastic_param1 = tf.constant(1.)\n",
    "    elastic_param2 = tf.constant(1.)\n",
    "    l1_a_loss = tf.reduce_mean(tf.abs(A))\n",
    "    l2_a_loss = tf.reduce_mean(tf.square(A))\n",
    "    e1_term = tf.multiply(elastic_param1, l1_a_loss)\n",
    "    e2_term = tf.multiply(elastic_param2, l2_a_loss)\n",
    "    loss = tf.expand_dims(tf.add(\n",
    "        tf.add(tf.reduce_mean(tf.square(y_target - model_output)), e1_term), e2_term), 0)\n",
    "    \n",
    "    init = tf.global_variables_initializer()\n",
    "    sess.run(init)\n",
    "    \n",
    "    my_opt = tf.train.GradientDescentOptimizer(lr)\n",
    "    train_step = my_opt.minimize(loss)\n",
    "    \n",
    "    loss_vec = []\n",
    "    for i in range(it):\n",
    "        rand_index = np.random.choice(len(x_vals), size=bs)\n",
    "        rand_x = x_vals[rand_index]\n",
    "        rand_y = np.transpose([y_vals[rand_index]])\n",
    "        sess.run(train_step, feed_dict={x_data: rand_x, y_target: rand_y})\n",
    "        temp_loss = sess.run(loss, feed_dict={x_data: rand_x, y_target: rand_y})\n",
    "        loss_vec.append(temp_loss[0])\n",
    "        if (i + 1) % 250 == 0:\n",
    "            print('Step #' + str(i + 1) + ' A = ' + str(sess.run(A)) + ' b = ' + str(sess.run(b)))\n",
    "            print('Loss = ' + str(temp_loss))\n",
    "    \n",
    "    [[sw_coef], [pl_coef], [pw_coef]] = sess.run(A)\n",
    "    [y_intercept] = sess.run(b)"
   ]
  },
  {
   "cell_type": "code",
   "execution_count": 6,
   "metadata": {},
   "outputs": [
    {
     "data": {
      "image/png": "[encoded data removed]",
      "text/plain": [
       "<matplotlib.figure.Figure at 0x7fb7b46862b0>"
      ]
     },
     "metadata": {},
     "output_type": "display_data"
    }
   ],
   "source": [
    "plt.plot(loss_vec, 'k-')\n",
    "plt.title('Loss per Generation')\n",
    "plt.xlabel('Generation')\n",
    "plt.ylabel('Loss')\n",
    "plt.show()"
   ]
  },
  {
   "cell_type": "code",
   "execution_count": null,
   "metadata": {},
   "outputs": [],
   "source": []
  }
 ],
 "metadata": {
  "kernelspec": {
   "display_name": "Python 3",
   "language": "python",
   "name": "python3"
  },
  "language_info": {
   "codemirror_mode": {
    "name": "ipython",
    "version": 3
   },
   "file_extension": ".py",
   "mimetype": "text/x-python",
   "name": "python",
   "nbconvert_exporter": "python",
   "pygments_lexer": "ipython3",
   "version": "3.6.3"
  }
 },
 "nbformat": 4,
 "nbformat_minor": 2
}
