{
 "cells": [
  {
   "cell_type": "code",
   "execution_count": 1,
   "metadata": {},
   "outputs": [],
   "source": [
    "import random\n",
    "import numpy as np\n",
    "import tensorflow as tf\n",
    "import matplotlib.pyplot as plt\n",
    "from PIL import Image\n",
    "from tensorflow.examples.tutorials.mnist import input_data"
   ]
  },
  {
   "cell_type": "code",
   "execution_count": 3,
   "metadata": {},
   "outputs": [
    {
     "name": "stdout",
     "output_type": "stream",
     "text": [
      "Extracting ../data/MNIST_data/train-images-idx3-ubyte.gz\n",
      "Extracting ../data/MNIST_data/train-labels-idx1-ubyte.gz\n",
      "Extracting ../data/MNIST_data/t10k-images-idx3-ubyte.gz\n",
      "Extracting ../data/MNIST_data/t10k-labels-idx1-ubyte.gz\n"
     ]
    }
   ],
   "source": [
    "mnist = input_data.read_data_sets('../data/MNIST_data/', one_hot=True)\n",
    "np.random.seed(13)\n",
    "train_size = 1000\n",
    "test_size = 102\n",
    "rand_train_indices = np.random.choice(len(mnist.train.images), train_size, replace=False)\n",
    "rand_test_indices = np.random.choice(len(mnist.test.images), test_size, replace=False)\n",
    "x_vals_train = mnist.train.images[rand_train_indices]\n",
    "x_vals_test = mnist.test.images[rand_test_indices]\n",
    "y_vals_train = mnist.train.labels[rand_train_indices]\n",
    "y_vals_test = mnist.test.labels[rand_test_indices]"
   ]
  },
  {
   "cell_type": "code",
   "execution_count": 4,
   "metadata": {},
   "outputs": [
    {
     "name": "stdout",
     "output_type": "stream",
     "text": [
      "Accuracy on test set: 0.8823529411764696\n"
     ]
    }
   ],
   "source": [
    "with tf.Session() as sess:\n",
    "    k = 4\n",
    "    bs = 6\n",
    "    \n",
    "    x_data_train = tf.placeholder(shape=[None, 784], dtype=tf.float32)\n",
    "    x_data_test = tf.placeholder(shape=[None, 784], dtype=tf.float32)\n",
    "    y_target_train = tf.placeholder(shape=[None, 10], dtype=tf.float32)\n",
    "    y_target_test = tf.placeholder(shape=[None, 10], dtype=tf.float32)\n",
    "    \n",
    "    distance = tf.reduce_sum(tf.abs(\n",
    "        tf.subtract(x_data_train, tf.expand_dims(x_data_test, 1))), axis=2)\n",
    "    \n",
    "    top_k_xvals, top_k_indices = tf.nn.top_k(tf.negative(distance), k=k)\n",
    "    prediction_indices = tf.gather(y_target_train, top_k_indices)\n",
    "    count_of_predictions = tf.reduce_sum(prediction_indices, axis=1)\n",
    "    prediction = tf.argmax(count_of_predictions, axis=1)\n",
    "    num_loops = int(np.ceil(len(x_vals_test) / bs))\n",
    "    \n",
    "    test_output = []\n",
    "    actual_vals = []\n",
    "    for i in range(num_loops):\n",
    "        min_index = i * bs\n",
    "        max_index = min((i + 1) * bs, len(x_vals_train))\n",
    "        x_batch = x_vals_test[min_index:max_index]\n",
    "        y_batch = y_vals_test[min_index:max_index]\n",
    "        predictions = sess.run(prediction, feed_dict={\n",
    "            x_data_train: x_vals_train,\n",
    "            x_data_test: x_batch,\n",
    "            y_target_train: y_vals_train,\n",
    "            y_target_test: y_batch,\n",
    "        })\n",
    "        test_output.extend(predictions)\n",
    "        actual_vals.extend(np.argmax(y_batch, axis=1))\n",
    "\n",
    "accuracy = sum([1. / test_size for i in range(test_size) if test_output[i] == actual_vals[i]])\n",
    "print('Accuracy on test set: ' + str(accuracy))"
   ]
  },
  {
   "cell_type": "code",
   "execution_count": 8,
   "metadata": {},
   "outputs": [
    {
     "data": {
      "image/png": "[encoded data removed]",
      "text/plain": [
       "<matplotlib.figure.Figure at 0x7f6dc56d1588>"
      ]
     },
     "metadata": {},
     "output_type": "display_data"
    }
   ],
   "source": [
    "actuals = np.argmax(y_batch, axis=1)\n",
    "\n",
    "nrows = 2\n",
    "ncols = 3\n",
    "for i in range(len(actuals)):\n",
    "    plt.subplot(nrows, ncols, i + 1)\n",
    "    plt.imshow(np.reshape(x_batch[i], [28, 28]), cmap='Greys_r')\n",
    "    plt.title('Actual: ' + str(actuals[i]) + ' Pred: ' +\n",
    "              str(predictions[i]), fontsize=10)\n",
    "    frame = plt.gca()\n",
    "    frame.axes.get_xaxis().set_visible(False)\n",
    "    frame.axes.get_yaxis().set_visible(False)"
   ]
  },
  {
   "cell_type": "code",
   "execution_count": null,
   "metadata": {},
   "outputs": [],
   "source": []
  }
 ],
 "metadata": {
  "kernelspec": {
   "display_name": "Python 3",
   "language": "python",
   "name": "python3"
  },
  "language_info": {
   "codemirror_mode": {
    "name": "ipython",
    "version": 3
   },
   "file_extension": ".py",
   "mimetype": "text/x-python",
   "name": "python",
   "nbconvert_exporter": "python",
   "pygments_lexer": "ipython3",
   "version": "3.6.3"
  }
 },
 "nbformat": 4,
 "nbformat_minor": 2
}
