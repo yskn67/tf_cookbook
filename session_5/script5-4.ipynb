{
 "cells": [
  {
   "cell_type": "code",
   "execution_count": 1,
   "metadata": {},
   "outputs": [],
   "source": [
    "import matplotlib.pyplot as plt\n",
    "import numpy as np\n",
    "import tensorflow as tf\n",
    "import requests\n",
    "from tensorflow.python.framework import ops"
   ]
  },
  {
   "cell_type": "code",
   "execution_count": 2,
   "metadata": {},
   "outputs": [],
   "source": [
    "housing_url = 'https://archive.ics.uci.edu/ml/machine-learning-databases/housing/housing.data'\n",
    "housing_header = ['CRIM', 'ZN', 'INDUS', 'CHAS', 'NOX', 'RM', 'AGE', 'DIS',\n",
    "                  'RAD', 'TAX', 'PTRATIO', 'B', 'LSTAT', 'MEDV']\n",
    "cols_used = ['CRIM', 'INDUS', 'NOX', 'RM', 'AGE', 'DIS', 'TAX', 'PTRATIO', 'B', 'LSTAT']\n",
    "num_features = len(cols_used)\n",
    "housing_file = requests.get(housing_url)\n",
    "housing_data = [[float(x) for x in y.split(' ') if len(x) >= 1]\n",
    "               for y in housing_file.text.split('\\n') if len(y) >= 1]\n",
    "\n",
    "y_vals = np.transpose([np.array([y[13] for y in housing_data])])\n",
    "x_vals = np.array([[x for i, x in enumerate(y) if housing_header[i] in cols_used]\n",
    "                  for y in housing_data])\n",
    "x_vals = (x_vals - x_vals.min(0) / x_vals.ptp(0))\n",
    "\n",
    "np.random.seed(13)\n",
    "train_indices = np.random.choice(len(x_vals), round(len(x_vals) * 0.8),\n",
    "                                replace=False)\n",
    "test_indices = np.array(list(set(range(len(x_vals))) - set(train_indices)))\n",
    "x_vals_train = x_vals[train_indices]\n",
    "x_vals_test = x_vals[test_indices]\n",
    "y_vals_train = y_vals[train_indices]\n",
    "y_vals_test = y_vals[test_indices]"
   ]
  },
  {
   "cell_type": "code",
   "execution_count": 6,
   "metadata": {},
   "outputs": [
    {
     "name": "stdout",
     "output_type": "stream",
     "text": [
      "Batch #1 MSE: 72.889\n"
     ]
    }
   ],
   "source": [
    "ops.reset_default_graph()\n",
    "with tf.Session() as sess:\n",
    "    weight_diagonal = x_vals.std(0)\n",
    "    weight_matrix = tf.cast(tf.diag(weight_diagonal), dtype=tf.float32)\n",
    "\n",
    "    k = 4\n",
    "    bs = len(x_vals_test)\n",
    "    \n",
    "    x_data_train = tf.placeholder(shape=[None, num_features], dtype=tf.float32)\n",
    "    x_data_test = tf.placeholder(shape=[None, num_features], dtype=tf.float32)\n",
    "    y_target_train = tf.placeholder(shape=[None, 1], dtype=tf.float32)\n",
    "    y_target_test = tf.placeholder(shape=[None, 1], dtype=tf.float32)\n",
    "  \n",
    "    subtraction_term = tf.subtract(x_data_train, tf.expand_dims(x_data_test, 1))\n",
    "    first_product = tf.matmul(subtraction_term,\n",
    "                    tf.tile(tf.expand_dims(weight_matrix, 0), [bs, 1, 1]))\n",
    "    second_product = tf.matmul(first_product,\n",
    "                     tf.transpose(subtraction_term, perm=[0, 2, 1]))\n",
    "    distance = tf.sqrt(tf.matrix_diag_part(second_product))\n",
    "    \n",
    "    top_k_xvals, top_k_indices = tf.nn.top_k(tf.negative(distance), k=k)\n",
    "    x_sums = tf.expand_dims(tf.reduce_sum(top_k_xvals, 1), 1)\n",
    "    x_sums_repeated = tf.matmul(x_sums, tf.ones([1, k], tf.float32))\n",
    "    x_val_weights = tf.expand_dims(tf.div(top_k_xvals, x_sums_repeated), 1)\n",
    "    \n",
    "    top_k_yvals = tf.gather(y_target_train, top_k_indices)\n",
    "    prediction = tf.squeeze(tf.matmul(x_val_weights, top_k_yvals), axis=1)\n",
    "    \n",
    "    mse = tf.div(tf.reduce_sum(tf.square(\n",
    "                 tf.subtract(prediction, y_target_test))), bs)\n",
    "    num_loops = int(np.ceil(len(x_vals_test) / bs))\n",
    "    \n",
    "    for i in range(num_loops):\n",
    "        min_index = i * bs\n",
    "        max_index = min((i + 1) * bs, len(x_vals_train))\n",
    "        x_batch = x_vals_test[min_index:max_index]\n",
    "        y_batch = y_vals_test[min_index:max_index]\n",
    "        predictions = sess.run(prediction, feed_dict={\n",
    "            x_data_train: x_vals_train,\n",
    "            x_data_test: x_batch,\n",
    "            y_target_train: y_vals_train,\n",
    "            y_target_test: y_batch,\n",
    "        })\n",
    "        batch_mse = sess.run(mse, feed_dict={\n",
    "            x_data_train: x_vals_train,\n",
    "            x_data_test: x_batch,\n",
    "            y_target_train: y_vals_train,\n",
    "            y_target_test: y_batch,\n",
    "        })\n",
    "        print('Batch #' + str(i + 1) + ' MSE: ' + str(np.round(batch_mse, 3)))"
   ]
  },
  {
   "cell_type": "code",
   "execution_count": 7,
   "metadata": {},
   "outputs": [
    {
     "data": {
      "image/png": "[encoded data removed]",
      "text/plain": [
       "<matplotlib.figure.Figure at 0x7fe9e00ece80>"
      ]
     },
     "metadata": {},
     "output_type": "display_data"
    }
   ],
   "source": [
    "bins = np.linspace(5, 50, 45)\n",
    "plt.hist(predictions, bins, alpha=0.5, label='Prediction')\n",
    "plt.hist(y_batch, bins, alpha=0.5, label='Actual')\n",
    "plt.title('Histogram of Predicted and Actual Values')\n",
    "plt.xlabel('Med Home Value in $1,000s')\n",
    "plt.ylabel('Frequency')\n",
    "plt.legend(loc='upper right')\n",
    "plt.show()"
   ]
  },
  {
   "cell_type": "code",
   "execution_count": null,
   "metadata": {},
   "outputs": [],
   "source": []
  }
 ],
 "metadata": {
  "kernelspec": {
   "display_name": "Python 3",
   "language": "python",
   "name": "python3"
  },
  "language_info": {
   "codemirror_mode": {
    "name": "ipython",
    "version": 3
   },
   "file_extension": ".py",
   "mimetype": "text/x-python",
   "name": "python",
   "nbconvert_exporter": "python",
   "pygments_lexer": "ipython3",
   "version": "3.6.3"
  }
 },
 "nbformat": 4,
 "nbformat_minor": 2
}
