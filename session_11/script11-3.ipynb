{
 "cells": [
  {
   "cell_type": "code",
   "execution_count": 1,
   "metadata": {},
   "outputs": [],
   "source": [
    "import os\n",
    "import numpy as np\n",
    "import matplotlib.pyplot as plt\n",
    "import tensorflow as tf"
   ]
  },
  {
   "cell_type": "code",
   "execution_count": 2,
   "metadata": {},
   "outputs": [],
   "source": [
    "pop_size = 100\n",
    "features = 50\n",
    "selection = 0.2\n",
    "mutation = 1. / pop_size\n",
    "generations = 200\n",
    "num_parents = int(pop_size * selection)\n",
    "num_children = pop_size - num_parents"
   ]
  },
  {
   "cell_type": "code",
   "execution_count": 3,
   "metadata": {},
   "outputs": [
    {
     "name": "stdout",
     "output_type": "stream",
     "text": [
      "WARNING:tensorflow:From <ipython-input-3-8869a39ae756>:12: arg_min (from tensorflow.python.ops.gen_math_ops) is deprecated and will be removed in a future version.\n",
      "Instructions for updating:\n",
      "Use `argmin` instead\n",
      "Generation: 0, Best Fitness (lowest MSE): 1.6\n",
      "Generation: 5, Best Fitness (lowest MSE): 0.6\n",
      "Generation: 10, Best Fitness (lowest MSE): 0.43\n",
      "Generation: 15, Best Fitness (lowest MSE): 0.35\n",
      "Generation: 20, Best Fitness (lowest MSE): 0.34\n",
      "Generation: 25, Best Fitness (lowest MSE): 0.32\n",
      "Generation: 30, Best Fitness (lowest MSE): 0.2\n",
      "Generation: 35, Best Fitness (lowest MSE): 0.14\n",
      "Generation: 40, Best Fitness (lowest MSE): 0.18\n",
      "Generation: 45, Best Fitness (lowest MSE): 0.16\n",
      "Generation: 50, Best Fitness (lowest MSE): 0.21\n",
      "Generation: 55, Best Fitness (lowest MSE): 0.14\n",
      "Generation: 60, Best Fitness (lowest MSE): 0.2\n",
      "Generation: 65, Best Fitness (lowest MSE): 0.095\n",
      "Generation: 70, Best Fitness (lowest MSE): 0.16\n",
      "Generation: 75, Best Fitness (lowest MSE): 0.12\n",
      "Generation: 80, Best Fitness (lowest MSE): 0.15\n",
      "Generation: 85, Best Fitness (lowest MSE): 0.06\n",
      "Generation: 90, Best Fitness (lowest MSE): 0.17\n",
      "Generation: 95, Best Fitness (lowest MSE): 0.18\n",
      "Generation: 100, Best Fitness (lowest MSE): 0.16\n",
      "Generation: 105, Best Fitness (lowest MSE): 0.12\n",
      "Generation: 110, Best Fitness (lowest MSE): 0.16\n",
      "Generation: 115, Best Fitness (lowest MSE): 0.19\n",
      "Generation: 120, Best Fitness (lowest MSE): 0.15\n",
      "Generation: 125, Best Fitness (lowest MSE): 0.14\n",
      "Generation: 130, Best Fitness (lowest MSE): 0.13\n",
      "Generation: 135, Best Fitness (lowest MSE): 0.087\n",
      "Generation: 140, Best Fitness (lowest MSE): 0.28\n",
      "Generation: 145, Best Fitness (lowest MSE): 0.1\n",
      "Generation: 150, Best Fitness (lowest MSE): 0.17\n",
      "Generation: 155, Best Fitness (lowest MSE): 0.15\n",
      "Generation: 160, Best Fitness (lowest MSE): 0.21\n",
      "Generation: 165, Best Fitness (lowest MSE): 0.093\n",
      "Generation: 170, Best Fitness (lowest MSE): 0.23\n",
      "Generation: 175, Best Fitness (lowest MSE): 0.12\n",
      "Generation: 180, Best Fitness (lowest MSE): 0.13\n",
      "Generation: 185, Best Fitness (lowest MSE): 0.11\n",
      "Generation: 190, Best Fitness (lowest MSE): 0.21\n",
      "Generation: 195, Best Fitness (lowest MSE): 0.091\n"
     ]
    }
   ],
   "source": [
    "with tf.Session() as sess:\n",
    "    truth = np.sin(2 * np.pi * (np.arange(features, dtype=np.float32)) / features)\n",
    "    \n",
    "    population = tf.Variable(np.random.randn(pop_size, features), dtype=tf.float32)\n",
    "    truth_ph = tf.placeholder(tf.float32, [1, features])\n",
    "    crossover_mat_ph = tf.placeholder(tf.float32, [num_children, features])\n",
    "    mutation_val_ph = tf.placeholder(tf.float32, [num_children, features])\n",
    "    fitness = -tf.reduce_mean(tf.square(tf.subtract(population, truth_ph)), 1)\n",
    "    \n",
    "    top_vals, top_ind = tf.nn.top_k(fitness, k=pop_size)\n",
    "    best_val = tf.reduce_min(top_vals)\n",
    "    best_ind = tf.arg_min(top_vals, 0)\n",
    "    best_individual = tf.gather(population, best_ind)\n",
    "    \n",
    "    population_sorted = tf.gather(population, top_ind)\n",
    "    parents = tf.slice(population_sorted, [0, 0], [num_parents, features])\n",
    "    \n",
    "    rand_parent1_ix = np.random.choice(num_parents, num_children)\n",
    "    rand_parent2_ix = np.random.choice(num_parents, num_children)\n",
    "    rand_parent1 = tf.gather(parents, rand_parent1_ix)\n",
    "    rand_parent2 = tf.gather(parents, rand_parent2_ix)\n",
    "    rand_parent1_sel = tf.multiply(rand_parent1, crossover_mat_ph)\n",
    "    rand_parent2_sel = tf.multiply(rand_parent2, tf.subtract(1., crossover_mat_ph))\n",
    "    children_after_sel = tf.add(rand_parent1_sel, rand_parent2_sel)\n",
    "    \n",
    "    mutated_children = tf.add(children_after_sel, mutation_val_ph)\n",
    "    new_population = tf.concat(axis=0, values=[parents, mutated_children])\n",
    "    \n",
    "    step = tf.group(population.assign(new_population))\n",
    "    \n",
    "    init = tf.global_variables_initializer()\n",
    "    sess.run(init)\n",
    "    \n",
    "    for i in range(generations):\n",
    "        crossover_mat = np.ones(shape=[num_children, features])\n",
    "        crossover_point = np.random.choice(np.arange(1, features - 1, step=1), num_children)\n",
    "        \n",
    "        for pop_ix in range(num_children):\n",
    "            crossover_mat[pop_ix, 0:crossover_point[pop_ix]] = 0\n",
    "        \n",
    "        mutation_prob_mat = np.random.uniform(size=[num_children, features])\n",
    "        mutation_values = np.random.normal(size=[num_children, features])\n",
    "        mutation_values[mutation_prob_mat >= mutation] = 0\n",
    "        \n",
    "        feed_dict = {\n",
    "            truth_ph: truth.reshape([1, features]),\n",
    "            crossover_mat_ph: crossover_mat,\n",
    "            mutation_val_ph: mutation_values,\n",
    "        }\n",
    "        step.run(feed_dict, session=sess)\n",
    "        best_individual_val = sess.run(best_individual, feed_dict=feed_dict)\n",
    "        \n",
    "        if i % 5 == 0:\n",
    "            best_fit = sess.run(best_val, feed_dict=feed_dict)\n",
    "            print('Generation: {}, Best Fitness (lowest MSE): {:.2}'.format(\n",
    "                i, -best_fit))"
   ]
  },
  {
   "cell_type": "code",
   "execution_count": 4,
   "metadata": {},
   "outputs": [
    {
     "data": {
      "image/png": "[encoded data removed]",
      "text/plain": [
       "<matplotlib.figure.Figure at 0x7ff5b4b35588>"
      ]
     },
     "metadata": {},
     "output_type": "display_data"
    }
   ],
   "source": [
    "plt.plot(truth, label=\"True Values\")\n",
    "plt.plot(np.squeeze(best_individual_val), label=\"Best Individual\")\n",
    "plt.axis((0, features, -1.25, 1.25))\n",
    "plt.legend(loc='upper right')\n",
    "plt.show()"
   ]
  },
  {
   "cell_type": "code",
   "execution_count": null,
   "metadata": {},
   "outputs": [],
   "source": []
  }
 ],
 "metadata": {
  "kernelspec": {
   "display_name": "Python 3",
   "language": "python",
   "name": "python3"
  },
  "language_info": {
   "codemirror_mode": {
    "name": "ipython",
    "version": 3
   },
   "file_extension": ".py",
   "mimetype": "text/x-python",
   "name": "python",
   "nbconvert_exporter": "python",
   "pygments_lexer": "ipython3",
   "version": "3.6.3"
  }
 },
 "nbformat": 4,
 "nbformat_minor": 2
}
