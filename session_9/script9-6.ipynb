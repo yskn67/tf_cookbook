{
 "cells": [
  {
   "cell_type": "code",
   "execution_count": 1,
   "metadata": {},
   "outputs": [],
   "source": [
    "import os\n",
    "import random\n",
    "import string\n",
    "import numpy as np\n",
    "import matplotlib.pyplot as plt\n",
    "import tensorflow as tf"
   ]
  },
  {
   "cell_type": "code",
   "execution_count": 2,
   "metadata": {},
   "outputs": [],
   "source": [
    "batch_size = 200\n",
    "n_batches = 300\n",
    "max_address_len = 20\n",
    "margin = 0.25\n",
    "num_features = 50\n",
    "dropout_keep_prob = 0.8"
   ]
  },
  {
   "cell_type": "code",
   "execution_count": 3,
   "metadata": {},
   "outputs": [],
   "source": [
    "model = __import__('siamese_similarity_model')"
   ]
  },
  {
   "cell_type": "code",
   "execution_count": 4,
   "metadata": {},
   "outputs": [],
   "source": [
    "def create_typo(s):\n",
    "    rand_ind = random.choice(range(len(s)))\n",
    "    s_list = list(s)\n",
    "    s_list[rand_ind] = random.choice(string.ascii_lowercase + '0123456789')\n",
    "    s = ''.join(s_list)\n",
    "    return s"
   ]
  },
  {
   "cell_type": "code",
   "execution_count": 5,
   "metadata": {},
   "outputs": [],
   "source": [
    "street_names = ['abbey', 'baker', 'canal', 'donner', 'elm', 'fifth',\n",
    "                'grandvia', 'hollywood', 'interstate', 'jay', 'kings']\n",
    "street_types = ['rd', 'st', 'ln', 'pass', 'ave', 'hwy', 'cir', 'dr', 'jct']\n",
    "test_queries = ['111 abbey ln', '271 doner cicle', '314 king avenue',\n",
    "                'tensorflow is fun']\n",
    "test_references = ['123 abbey ln', '217 donner cir', '314 kings ave',\n",
    "                   '404 hollywood st', 'tensorflow is so fun']"
   ]
  },
  {
   "cell_type": "code",
   "execution_count": 6,
   "metadata": {},
   "outputs": [],
   "source": [
    "def get_batch(n):\n",
    "    numbers = [random.randint(1, 9999) for i in range(n)]\n",
    "    streets = [random.choice(street_names) for i in range(n)]\n",
    "    street_suffs = [random.choice(street_types)]\n",
    "    full_streets = [str(w) + ' ' + x + ' ' + y for w, x, y in\n",
    "                    zip(numbers, streets, street_suffs)]\n",
    "    typo_streets = [create_typo(x) for x in full_streets]\n",
    "    reference = [list(x) for x in zip(full_streets, typo_streets)]\n",
    "    \n",
    "    half_ix = int(n / 2)\n",
    "    bottom_half = reference[half_ix:]\n",
    "    true_address = [x[0] for x in bottom_half]\n",
    "    typo_address = [x[1] for x in bottom_half]\n",
    "    typo_address = list(np.roll(typo_address, 1))\n",
    "    bottom_half = [[x, y] for x, y in zip(reference, typo_address)]\n",
    "    reference[half_ix:] = bottom_half\n",
    "    \n",
    "    target = [1] * (n - half_ix) + [-1] * half_ix\n",
    "    reference = [[x, y] for x, y in zip(reference, target)]\n",
    "    return reference"
   ]
  },
  {
   "cell_type": "code",
   "execution_count": 7,
   "metadata": {},
   "outputs": [],
   "source": [
    "vocab_chars = string.ascii_lowercase + '0123456789 '\n",
    "vocab2ix_dict = {char: (ix + 1) for ix, char in enumerate(vocab_chars)}\n",
    "vocab_length = len(vocab_chars) + 1\n",
    "\n",
    "def address2onehot(address, vocab2ix_dict=vocab2ix_dict, max_address_len=max_address_len):\n",
    "    address_ix = [vocab2ix_dict[x] for x in list(address)]\n",
    "    address_ix = (address_ix + [0] * max_address_len)[0:max_address_len]\n",
    "    return address_ix"
   ]
  },
  {
   "cell_type": "code",
   "execution_count": 8,
   "metadata": {},
   "outputs": [],
   "source": [
    "address1_ph = tf.placeholder(tf.int32, [None, max_address_len],\n",
    "                             name='address1_ph')\n",
    "address2_ph = tf.placeholder(tf.int32, [None, max_address_len],\n",
    "                             name='address2_ph')\n",
    "y_target_ph = tf.placeholder(tf.int32, [None], name='y_target_ph')\n",
    "dropout_keep_prob_ph = tf.placeholder(tf.float32, name='dropout_keep_prob')\n",
    "\n",
    "identity_mat = tf.diag(tf.ones(shape=[vocab_length]))\n",
    "address1_embed = tf.nn.embedding_lookup(identity_mat, address1_ph)\n",
    "address2_embed = tf.nn.embedding_lookup(identity_mat, address2_ph)"
   ]
  },
  {
   "cell_type": "code",
   "execution_count": 9,
   "metadata": {},
   "outputs": [
    {
     "name": "stdout",
     "output_type": "stream",
     "text": [
      "WARNING:tensorflow:From /home/yskn67/.ghq/github.com/yskn67/tf_cookbook/session_9/siamese_similarity_model.py:19: BasicLSTMCell.__init__ (from tensorflow.python.ops.rnn_cell_impl) is deprecated and will be removed in a future version.\n",
      "Instructions for updating:\n",
      "This class is deprecated, please use tf.nn.rnn_cell.LSTMCell, which supports all the feature this cell currently has. Please replace the existing code with tf.nn.rnn_cell.LSTMCell(name='basic_lstm_cell').\n"
     ]
    }
   ],
   "source": [
    "text_snn = model.snn(address1_embed, address2_embed, dropout_keep_prob_ph,\n",
    "                     vocab_length, num_features, max_address_len)\n",
    "batch_accuracy = model.accuracy(text_snn, y_target_ph)\n",
    "batch_loss = model.loss(text_snn, y_target_ph, margin)\n",
    "predictions = model.get_predictions(text_snn)"
   ]
  },
  {
   "cell_type": "code",
   "execution_count": 10,
   "metadata": {},
   "outputs": [],
   "source": [
    "optimizer = tf.train.AdamOptimizer(0.01)\n",
    "train_op = optimizer.minimize(batch_loss)\n",
    "init = tf.global_variables_initializer()"
   ]
  },
  {
   "cell_type": "code",
   "execution_count": 12,
   "metadata": {},
   "outputs": [
    {
     "name": "stdout",
     "output_type": "stream",
     "text": [
      "Query Addresses: ['111 abbey ln', '271 doner cicle', '314 king avenue', 'tensorflow is fun']\n",
      "Model Found Matches: ['123 abbey ln', '217 donner cir', '314 kings ave', '217 donner cir']\n"
     ]
    }
   ],
   "source": [
    "with tf.Session() as sess:\n",
    "    sess.run(init)\n",
    "    train_loss_vec = []\n",
    "    train_acc_vec = []\n",
    "    for b in range(n_batches):\n",
    "        batch_data = get_batch(batch_size)\n",
    "        np.random.shuffle(batch_data)\n",
    "        input_addresses = [x[0] for x in batch_data]\n",
    "        target_similarity = np.array([x[1] for x in batch_data])\n",
    "        address1 = np.array([address2onehot(x[0]) for x in input_addresses])\n",
    "        address2 = np.array([address2onehot(x[1]) for x in input_addresses])\n",
    "        \n",
    "        train_feed_dict = {\n",
    "            address1_ph: address1,\n",
    "            address2_ph: address2,\n",
    "            y_target_ph: target_similarity,\n",
    "            dropout_keep_prob_ph: dropout_keep_prob,\n",
    "        }\n",
    "        \n",
    "        _, train_loss, train_acc = sess.run(\n",
    "            [train_op, batch_loss, batch_accuracy], feed_dict=train_feed_dict\n",
    "        )\n",
    "        \n",
    "        train_loss_vec.append(train_loss)\n",
    "        train_acc_vec.append(train_acc)\n",
    "        \n",
    "    test_queries_ix = np.array([address2onehot(x) for x in test_queries])\n",
    "    test_references_ix = np.array([address2onehot(x) for x in test_references])\n",
    "    num_refs = test_references_ix.shape[0]\n",
    "    best_fit_refs = []\n",
    "    for query in test_queries_ix:\n",
    "        test_query = np.repeat(np.array([query]), num_refs, axis=0)\n",
    "        test_feed_dict = {\n",
    "            address1_ph: test_query,\n",
    "            address2_ph: test_references_ix,\n",
    "            y_target_ph: target_similarity,\n",
    "            dropout_keep_prob_ph: 1.0,\n",
    "        }\n",
    "        test_out = sess.run(text_snn, feed_dict=test_feed_dict)\n",
    "        best_fit = test_references[np.argmax(test_out)]\n",
    "        best_fit_refs.append(best_fit)\n",
    "        \n",
    "    print('Query Addresses: {}'.format(test_queries))\n",
    "    print('Model Found Matches: {}'.format(best_fit_refs))"
   ]
  },
  {
   "cell_type": "code",
   "execution_count": 13,
   "metadata": {},
   "outputs": [
    {
     "data": {
      "image/png": "[encoded data removed]",
      "text/plain": [
       "<matplotlib.figure.Figure at 0x7fe0c42179b0>"
      ]
     },
     "metadata": {},
     "output_type": "display_data"
    }
   ],
   "source": [
    "plt.plot(train_loss_vec, 'k-', lw=2, label='Batch Loss')\n",
    "plt.plot(train_acc_vec, 'r:', label='Batch Accuracy')\n",
    "plt.xlabel('Iterations')\n",
    "plt.ylabel('Accuracy and Loss')\n",
    "plt.title('Accuracy and Loss of Siamese RNN')\n",
    "plt.grid()\n",
    "plt.legend(loc='lower right')\n",
    "plt.show()"
   ]
  },
  {
   "cell_type": "code",
   "execution_count": null,
   "metadata": {},
   "outputs": [],
   "source": []
  }
 ],
 "metadata": {
  "kernelspec": {
   "display_name": "Python 3",
   "language": "python",
   "name": "python3"
  },
  "language_info": {
   "codemirror_mode": {
    "name": "ipython",
    "version": 3
   },
   "file_extension": ".py",
   "mimetype": "text/x-python",
   "name": "python",
   "nbconvert_exporter": "python",
   "pygments_lexer": "ipython3",
   "version": "3.6.3"
  }
 },
 "nbformat": 4,
 "nbformat_minor": 2
}
