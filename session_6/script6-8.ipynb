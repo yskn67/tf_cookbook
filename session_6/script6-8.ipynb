{
 "cells": [
  {
   "cell_type": "code",
   "execution_count": 24,
   "metadata": {},
   "outputs": [],
   "source": [
    "import tensorflow as tf\n",
    "import matplotlib.pyplot as plt\n",
    "import csv\n",
    "import numpy as np\n",
    "import random\n",
    "from tensorflow.python.framework import ops"
   ]
  },
  {
   "cell_type": "code",
   "execution_count": 17,
   "metadata": {},
   "outputs": [],
   "source": [
    "bs = 50\n",
    "lr = 0.025\n",
    "it = 10000"
   ]
  },
  {
   "cell_type": "code",
   "execution_count": 3,
   "metadata": {},
   "outputs": [],
   "source": [
    "def print_board(board):\n",
    "    symbols = ['0', ' ', 'X']\n",
    "    board_plus1 = [int(x) + 1 for x in board]\n",
    "    print(' ' + symbols[board_plus1[0]] + ' | ' + symbols[board_plus1[1]] + ' | ' + symbols[board_plus1[2]])\n",
    "    print('___________')\n",
    "    print(' ' + symbols[board_plus1[3]] + ' | ' + symbols[board_plus1[4]] + ' | ' + symbols[board_plus1[5]])\n",
    "    print('___________')\n",
    "    print(' ' + symbols[board_plus1[6]] + ' | ' + symbols[board_plus1[7]] + ' | ' + symbols[board_plus1[8]])"
   ]
  },
  {
   "cell_type": "code",
   "execution_count": 4,
   "metadata": {},
   "outputs": [],
   "source": [
    "def get_symmetry(board, response, transformation):\n",
    "    if transformation == 'rotate180':\n",
    "        new_response = 8 - response\n",
    "        return (board[::-1], new_response)\n",
    "    elif transformation == 'rotate90':\n",
    "        new_response = [6, 3, 0, 7, 4, 1, 8, 5, 2].index(response)\n",
    "        tuple_board = list(zip(*[board[6:9], board[3:6], board[0:3]]))\n",
    "        return ([value for item in tuple_board for value in item], new_response)\n",
    "    elif transformation == 'rotate270':\n",
    "        new_response = [2, 5, 8, 1, 4, 7, 0, 3, 6].index(response)\n",
    "        tuple_board = list(zip(*[board[0:3], board[3:6], board[6:9]]))[::-1]\n",
    "        return ([value for item in tuple_board for value in item], new_response)\n",
    "    elif transformation == 'flip_v':\n",
    "        new_response = [6, 7, 8, 3, 4, 5, 0, 1, 2].index(response)\n",
    "        return (board[6:9] + board[3:6] + board[0:3], new_response)\n",
    "    elif transformation == 'flip_h':\n",
    "        new_response = [2, 1, 0, 5, 4, 3, 8, 7, 6].index(response)\n",
    "        board = board[::-1]\n",
    "        return (board[6:9] + board[3:6] + board[0:3], new_response)\n",
    "    else:\n",
    "        raise ValueError('Method not implement.')"
   ]
  },
  {
   "cell_type": "code",
   "execution_count": 11,
   "metadata": {},
   "outputs": [],
   "source": [
    "def get_moves_from_csv(csv_file):\n",
    "    moves = []\n",
    "    with open(csv_file, 'rt') as csvfile:\n",
    "        reader = csv.reader(csvfile, delimiter=',')\n",
    "        for row in reader:\n",
    "            moves.append(([int(x) for x in row[0:9]], int(row[9])))\n",
    "    return moves"
   ]
  },
  {
   "cell_type": "code",
   "execution_count": 12,
   "metadata": {},
   "outputs": [],
   "source": [
    "def get_rand_move(moves, rand_transforms=2):\n",
    "    (board, response) = random.choice(moves)\n",
    "    possible_transforms = ['rotate90', 'rotate180', 'rotate270', 'flip_v', 'flip_h']\n",
    "    for i in range(rand_transforms):\n",
    "        random_transform = random.choice(possible_transforms)\n",
    "        (board, response) = get_symmetry(board, response, random_transform)\n",
    "    return (board, response)"
   ]
  },
  {
   "cell_type": "code",
   "execution_count": 28,
   "metadata": {},
   "outputs": [],
   "source": [
    "def check(board):\n",
    "    wins = [[0, 1, 2], [3, 4, 5], [6, 7, 8], [0, 3, 6], [1, 4, 7], [2, 5, 8], [0, 4, 8], [2, 4, 6]]\n",
    "    for i in range(len(wins)):\n",
    "        if board[wins[i][0]] == board[wins[i][1]] == board[wins[i][2]] == 1.:\n",
    "            return 1\n",
    "        elif board[wins[i][0]] == board[wins[i][1]] == board[wins[i][2]] == -1.:\n",
    "            return 1\n",
    "    return 0"
   ]
  },
  {
   "cell_type": "code",
   "execution_count": 30,
   "metadata": {},
   "outputs": [
    {
     "name": "stdout",
     "output_type": "stream",
     "text": [
      "iteration0 Loss = 5.990233\n",
      "iteration500 Loss = 1.6277739\n",
      "iteration1000 Loss = 1.794357\n",
      "iteration1500 Loss = 1.2636309\n",
      "iteration2000 Loss = 1.2227329\n",
      "iteration2500 Loss = 1.1194075\n",
      "iteration3000 Loss = 1.0413337\n",
      "iteration3500 Loss = 1.2077494\n",
      "iteration4000 Loss = 1.0515857\n",
      "iteration4500 Loss = 1.0649889\n",
      "iteration5000 Loss = 0.90615463\n",
      "iteration5500 Loss = 0.7275402\n",
      "iteration6000 Loss = 0.81829727\n",
      "iteration6500 Loss = 1.0810063\n",
      "iteration7000 Loss = 0.7437689\n",
      "iteration7500 Loss = 0.6470923\n",
      "iteration8000 Loss = 0.6833428\n",
      "iteration8500 Loss = 0.8217648\n",
      "iteration9000 Loss = 1.1388118\n",
      "iteration9500 Loss = 0.8669286\n",
      "[6]\n",
      "Model has moved\n",
      "   |   |  \n",
      "___________\n",
      " 0 | X |  \n",
      "___________\n",
      "   |   |  \n",
      "Model has moved\n",
      "   |   |  \n",
      "___________\n",
      " 0 | X |  \n",
      "___________\n",
      " X |   | 0\n",
      "Model has moved\n",
      " 0 |   | X\n",
      "___________\n",
      " 0 | X |  \n",
      "___________\n",
      " X |   | 0\n",
      "Game Over!\n"
     ]
    }
   ],
   "source": [
    "ops.reset_default_graph()\n",
    "with tf.Session() as sess:\n",
    "    moves = get_moves_from_csv('base_tic_tac_toe_moves.csv')\n",
    "    train_length = 500\n",
    "    train_set = []\n",
    "    for t in range(train_length):\n",
    "        train_set.append(get_rand_move(moves))\n",
    "    \n",
    "    test_board = [-1, 0, 0, 1, -1, -1, 0, 0, 1]\n",
    "    train_set = [x for x in train_set if x[0] != test_board]\n",
    "    \n",
    "    def init_weights(shape):\n",
    "        return tf.Variable(tf.random_normal(shape))\n",
    "    \n",
    "    def model(X, A1, A2, bias1, bias2):\n",
    "        layer1 = tf.nn.sigmoid(tf.add(tf.matmul(X, A1), bias1))\n",
    "        layer2 = tf.add(tf.matmul(layer1, A2), bias2)\n",
    "        return layer2\n",
    "    \n",
    "    X = tf.placeholder(dtype=tf.float32, shape=[None, 9])\n",
    "    Y = tf.placeholder(dtype=tf.int32, shape=[None])\n",
    "    \n",
    "    A1 = init_weights([9, 81])\n",
    "    bias1 = init_weights([81])\n",
    "    A2 = init_weights([81, 9])\n",
    "    bias2 = init_weights([9])\n",
    "    model_output = model(X, A1, A2, bias1, bias2)\n",
    "    \n",
    "    loss = tf.reduce_mean(tf.nn.sparse_softmax_cross_entropy_with_logits(\n",
    "        logits=model_output, labels=Y))\n",
    "    train_step = tf.train.GradientDescentOptimizer(lr).minimize(loss)\n",
    "    prediction = tf.argmax(model_output, 1)\n",
    "    \n",
    "    init = tf.global_variables_initializer()\n",
    "    sess.run(init)\n",
    "    \n",
    "    loss_vec = []\n",
    "    for i in range(it):\n",
    "        rand_indices = np.random.choice(len(train_set), size=bs)\n",
    "        batch_data = [train_set[i] for i in rand_indices]\n",
    "        x_input = [x[0] for x in batch_data]\n",
    "        y_target = np.array([y[1] for y in batch_data])\n",
    "        sess.run(train_step, feed_dict={X: x_input, Y: y_target})\n",
    "        temp_loss = sess.run(loss, feed_dict={X: x_input, Y: y_target})\n",
    "        loss_vec.append(temp_loss)\n",
    "\n",
    "        if i % 500 == 0:\n",
    "            print('iteration' + str(i) + ' Loss = ' + str(temp_loss))\n",
    "            \n",
    "    test_boards = [test_board]\n",
    "    logits = sess.run(model_output, feed_dict={X: test_boards})\n",
    "    predictions = sess.run(prediction, feed_dict={X: test_boards})\n",
    "    print(predictions)\n",
    "    \n",
    "    game_tracker = [0., 0., 0., 0., 0., 0., 0., 0., 0.]\n",
    "    win_logical = False\n",
    "    num_moves = 0\n",
    "    while not win_logical:\n",
    "        player_index = input('Input index of your move (0-8): ')\n",
    "        num_moves += 1\n",
    "        game_tracker[int(player_index)] = 1\n",
    "        [potential_moves] = sess.run(model_output, feed_dict={X: [game_tracker]})\n",
    "        allowed_moves = [ix for ix, x in enumerate(game_tracker) if x == 0.0]\n",
    "        model_move = np.argmax([x if ix in allowed_moves else -999.0\n",
    "                                   for ix, x in enumerate(potential_moves)])\n",
    "        game_tracker[int(model_move)] = -1.\n",
    "        print('Model has moved')\n",
    "        print_board(game_tracker)\n",
    "        if check(game_tracker) == 1 or num_moves >= 5:\n",
    "            print('Game Over!')\n",
    "            win_logical = True"
   ]
  },
  {
   "cell_type": "code",
   "execution_count": 31,
   "metadata": {},
   "outputs": [
    {
     "data": {
      "image/png": "[encoded data removed]",
      "text/plain": [
       "<matplotlib.figure.Figure at 0x7fb149f2b748>"
      ]
     },
     "metadata": {},
     "output_type": "display_data"
    }
   ],
   "source": [
    "plt.plot(loss_vec, 'k-')\n",
    "plt.title('Cross Entropy Loss per Generation')\n",
    "plt.xlabel('Generation')\n",
    "plt.ylabel('Cross Entropy Loss')\n",
    "plt.show()"
   ]
  },
  {
   "cell_type": "code",
   "execution_count": null,
   "metadata": {},
   "outputs": [],
   "source": []
  }
 ],
 "metadata": {
  "kernelspec": {
   "display_name": "Python 3",
   "language": "python",
   "name": "python3"
  },
  "language_info": {
   "codemirror_mode": {
    "name": "ipython",
    "version": 3
   },
   "file_extension": ".py",
   "mimetype": "text/x-python",
   "name": "python",
   "nbconvert_exporter": "python",
   "pygments_lexer": "ipython3",
   "version": "3.6.3"
  }
 },
 "nbformat": 4,
 "nbformat_minor": 2
}
