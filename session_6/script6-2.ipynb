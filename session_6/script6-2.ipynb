{
 "cells": [
  {
   "cell_type": "code",
   "execution_count": 5,
   "metadata": {},
   "outputs": [],
   "source": [
    "import tensorflow as tf\n",
    "from tensorflow.python.framework import ops"
   ]
  },
  {
   "cell_type": "code",
   "execution_count": 6,
   "metadata": {},
   "outputs": [
    {
     "name": "stdout",
     "output_type": "stream",
     "text": [
      "Optimizing a Multiplication Gate Output to 50.\n",
      "7.0 * 5.0 = 35.0\n",
      "8.5 * 5.0 = 42.5\n",
      "9.25 * 5.0 = 46.25\n",
      "9.625 * 5.0 = 48.125\n",
      "9.8125 * 5.0 = 49.0625\n",
      "9.90625 * 5.0 = 49.53125\n",
      "9.953125 * 5.0 = 49.765625\n",
      "9.9765625 * 5.0 = 49.882812\n",
      "9.988281 * 5.0 = 49.941406\n",
      "9.994141 * 5.0 = 49.970703\n"
     ]
    }
   ],
   "source": [
    "ops.reset_default_graph()\n",
    "with tf.Session() as sess:\n",
    "    a = tf.Variable(tf.constant(4.))\n",
    "    x_val = 5.\n",
    "    x_data = tf.placeholder(dtype=tf.float32)\n",
    "    \n",
    "    multiplication = tf.multiply(a, x_data)\n",
    "    loss = tf.square(tf.subtract(multiplication, 50.))\n",
    "    init = tf.global_variables_initializer()\n",
    "    sess.run(init)\n",
    "    \n",
    "    my_opt = tf.train.GradientDescentOptimizer(0.01)\n",
    "    train_step = my_opt.minimize(loss)\n",
    "    \n",
    "    print('Optimizing a Multiplication Gate Output to 50.')\n",
    "    for i in range(10):\n",
    "        sess.run(train_step, feed_dict={x_data: x_val})\n",
    "        a_val = sess.run(a)\n",
    "        mult_output = sess.run(multiplication, feed_dict={x_data: x_val})\n",
    "        print(str(a_val) + ' * ' + str(x_val) + ' = ' + str(mult_output))"
   ]
  },
  {
   "cell_type": "code",
   "execution_count": 9,
   "metadata": {},
   "outputs": [
    {
     "name": "stdout",
     "output_type": "stream",
     "text": [
      "Optimizing a Two Gate Output to 50.\n",
      "5.4 * 5.0 + 5.4 = 28.88\n",
      "7.512 * 5.0 + 7.512 = 39.8624\n",
      "8.52576 * 5.0 + 8.52576 = 45.133953\n",
      "9.012364 * 5.0 + 9.012364 = 47.664295\n",
      "9.2459345 * 5.0 + 9.2459345 = 48.87886\n",
      "9.358048 * 5.0 + 9.358048 = 49.461853\n",
      "9.411863 * 5.0 + 9.411863 = 49.74169\n",
      "9.437695 * 5.0 + 9.437695 = 49.87601\n",
      "9.450093 * 5.0 + 9.450093 = 49.940483\n",
      "9.456045 * 5.0 + 9.456045 = 49.971436\n"
     ]
    }
   ],
   "source": [
    "ops.reset_default_graph()\n",
    "with tf.Session() as sess:\n",
    "    a = tf.Variable(tf.constant(1.))\n",
    "    b = tf.Variable(tf.constant(1.))\n",
    "    x_val = 5.\n",
    "    x_data = tf.placeholder(dtype=tf.float32)\n",
    "    \n",
    "    two_gate = tf.add(tf.multiply(a, x_data), b)\n",
    "    loss = tf.square(tf.subtract(two_gate, 50.))\n",
    "    init = tf.global_variables_initializer()\n",
    "    sess.run(init)\n",
    "    \n",
    "    my_opt = tf.train.GradientDescentOptimizer(0.01)\n",
    "    train_step = my_opt.minimize(loss)\n",
    "    \n",
    "    print('Optimizing a Two Gate Output to 50.')\n",
    "    for i in range(10):\n",
    "        sess.run(train_step, feed_dict={x_data: x_val})\n",
    "        a_val, b_val = (sess.run(a), sess.run(b))\n",
    "        two_gate_output = sess.run(two_gate, feed_dict={x_data: x_val})\n",
    "        print(str(a_val) + ' * ' + str(x_val) + ' + ' + str(a_val) + ' = ' + str(two_gate_output))"
   ]
  },
  {
   "cell_type": "code",
   "execution_count": null,
   "metadata": {},
   "outputs": [],
   "source": []
  }
 ],
 "metadata": {
  "kernelspec": {
   "display_name": "Python 3",
   "language": "python",
   "name": "python3"
  },
  "language_info": {
   "codemirror_mode": {
    "name": "ipython",
    "version": 3
   },
   "file_extension": ".py",
   "mimetype": "text/x-python",
   "name": "python",
   "nbconvert_exporter": "python",
   "pygments_lexer": "ipython3",
   "version": "3.6.3"
  }
 },
 "nbformat": 4,
 "nbformat_minor": 2
}
