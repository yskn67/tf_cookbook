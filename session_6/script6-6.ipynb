{
 "cells": [
  {
   "cell_type": "code",
   "execution_count": 19,
   "metadata": {},
   "outputs": [],
   "source": [
    "import tensorflow as tf\n",
    "import matplotlib.pyplot as plt\n",
    "import requests\n",
    "import numpy as np\n",
    "import csv\n",
    "import os\n",
    "from tensorflow.python.framework import ops"
   ]
  },
  {
   "cell_type": "code",
   "execution_count": 14,
   "metadata": {},
   "outputs": [],
   "source": [
    "birth_weight_file = \"../data/birthweight.dat\"\n",
    "if not os.path.exists(birth_weight_file):\n",
    "    birthdata_url = \"https://raw.githubusercontent.com/nfmcclure/\" \\\n",
    "        \"tensorflow_cookbook/master/01_Introduction/07_Working_with_Data_Sources/\" \\\n",
    "        \"birthweight_data/birthweight.dat\"\n",
    "    birth_file = requests.get(birthdata_url)\n",
    "    birth_data = birth_file.text.split('\\r\\n')\n",
    "    birth_header = birth_data[0].split('\\t')\n",
    "    birth_data = [[float(x) for x in y.split('\\t') if len(x) >= 1]\n",
    "        for y in birth_data[1:] if len(y) >= 1]\n",
    "    with open(birth_weight_file, \"w\") as f:\n",
    "        writer = csv.writer(f)\n",
    "        writer.writerow(birth_header)\n",
    "        writer.writerows(birth_data)\n",
    "        \n",
    "birth_data = []\n",
    "with open(birth_weight_file, newline='') as csvfile:\n",
    "    csv_reader = csv.reader(csvfile)\n",
    "    birth_header = next(csv_reader)\n",
    "    for row in csv_reader:\n",
    "        birth_data.append([float(x) for x in row])\n",
    "        \n",
    "y_vals = np.array([x[8] for x in birth_data])\n",
    "cols_of_interest = [\"AGE\", \"LWT\", \"RACE\", \"SMOKE\", \"PTL\", \"HT\", \"UI\"]\n",
    "x_vals = np.array([[x[ix] for ix, feature in enumerate(birth_header)\n",
    "    if feature in cols_of_interest] for x in  birth_data])"
   ]
  },
  {
   "cell_type": "code",
   "execution_count": 15,
   "metadata": {},
   "outputs": [],
   "source": [
    "seed = 3\n",
    "tf.set_random_seed(seed)\n",
    "np.random.seed(seed)\n",
    "\n",
    "train_indices = np.random.choice(len(x_vals), round(len(x_vals) * 0.8),\n",
    "                                replace=False)\n",
    "test_indices = np.array(list(set(range(len(x_vals))) - set(train_indices)))\n",
    "x_vals_train = x_vals[train_indices]\n",
    "x_vals_test = x_vals[test_indices]\n",
    "y_vals_train = y_vals[train_indices]\n",
    "y_vals_test = y_vals[test_indices]\n",
    "\n",
    "def normalize_cols(m):\n",
    "    col_max = m.max(axis=0)\n",
    "    col_min = m.min(axis=0)\n",
    "    return (m - col_min) / (col_max - col_min)\n",
    "\n",
    "x_vals_train = np.nan_to_num(normalize_cols(x_vals_train))\n",
    "x_vals_test = np.nan_to_num(normalize_cols(x_vals_test))"
   ]
  },
  {
   "cell_type": "code",
   "execution_count": 37,
   "metadata": {},
   "outputs": [
    {
     "name": "stdout",
     "output_type": "stream",
     "text": [
      "Generation: 25, Loss = 2049.4568\n",
      "Generation: 50, Loss = 1208.3578\n",
      "Generation: 75, Loss = 1077.4053\n",
      "Generation: 100, Loss = 710.1328\n",
      "Generation: 125, Loss = 703.52484\n",
      "Generation: 150, Loss = 766.4473\n",
      "Generation: 175, Loss = 680.4487\n",
      "Generation: 200, Loss = 674.52435\n",
      "On predicting the category of low birthweight from regression output (<2500g):\n",
      "Test Accuracy: 0.7631578947368421\n",
      "Train Accuracy: 0.7814569536423841\n"
     ]
    }
   ],
   "source": [
    "ops.reset_default_graph()\n",
    "with tf.Session() as sess:\n",
    "    def init_weight(shape, st_dev):\n",
    "        weight = tf.Variable(tf.random_normal(shape, stddev=st_dev))\n",
    "        return weight\n",
    "    def init_bias(shape, st_dev):\n",
    "        bias = tf.Variable(tf.random_normal(shape, stddev=st_dev))\n",
    "        return bias\n",
    "    def fully_connected(input_layer, weights, biases):\n",
    "        layer = tf.add(tf.matmul(input_layer, weights), biases)\n",
    "        return tf.nn.relu(layer)\n",
    "    \n",
    "    bs = 100\n",
    "    lr = 0.05\n",
    "    it = 200\n",
    "    x_data = tf.placeholder(shape=[None, 7], dtype=tf.float32)\n",
    "    y_target = tf.placeholder(shape=[None, 1], dtype=tf.float32)\n",
    "    \n",
    "    weight_1 = init_weight(shape=[7, 25], st_dev=10.0)\n",
    "    bias_1 = init_bias(shape=[25], st_dev=10.0)\n",
    "    layer_1 = fully_connected(x_data, weight_1, bias_1)\n",
    "    \n",
    "    weight_2 = init_weight(shape=[25, 10], st_dev=10.0)\n",
    "    bias_2 = init_bias(shape=[10], st_dev=10.0)\n",
    "    layer_2 = fully_connected(layer_1, weight_2, bias_2)\n",
    "    \n",
    "    weight_3 = init_weight(shape=[10, 3], st_dev=10.0)\n",
    "    bias_3 = init_bias(shape=[3], st_dev=10.0)\n",
    "    layer_3 = fully_connected(layer_2, weight_3, bias_3)\n",
    "    \n",
    "    weight_4 = init_weight(shape=[3, 1], st_dev=10.0)\n",
    "    bias_4 = init_bias(shape=[1], st_dev=10.0)\n",
    "    final_output = fully_connected(layer_3, weight_4, bias_4)\n",
    "    \n",
    "    loss = tf.reduce_mean(tf.abs(y_target - final_output))\n",
    "    my_opt = tf.train.AdamOptimizer(lr)\n",
    "    train_step = my_opt.minimize(loss)\n",
    "    \n",
    "    init = tf.global_variables_initializer()\n",
    "    sess.run(init)\n",
    "    \n",
    "    loss_vec = []\n",
    "    test_loss = []\n",
    "    for i in range(it):\n",
    "        rand_index = np.random.choice(len(x_vals_train), size=bs)\n",
    "        rand_x = x_vals_train[rand_index]\n",
    "        rand_y = np.transpose([y_vals_train[rand_index]])\n",
    "        sess.run(train_step, feed_dict={x_data: rand_x, y_target: rand_y})\n",
    "        temp_loss = sess.run(loss, feed_dict={\n",
    "            x_data: rand_x,\n",
    "            y_target: rand_y})\n",
    "        loss_vec.append(temp_loss)\n",
    "        test_temp_loss = sess.run(loss, feed_dict={\n",
    "            x_data: x_vals_test,\n",
    "            y_target: np.transpose([y_vals_test])})\n",
    "        test_loss.append(test_temp_loss)\n",
    "        \n",
    "        if (i + 1) % 25 == 0:\n",
    "            print('Generation: ' + str(i + 1) + ', Loss = ' + str(temp_loss))\n",
    "    \n",
    "    actuals = np.array([1.0 if x[8] < 2500 else 0.0 for x in birth_data])\n",
    "    test_actuals = actuals[test_indices]\n",
    "    train_actuals = actuals[train_indices]\n",
    "    test_preds = [1.0 if x[0] < 2500 else 0.0 for x in sess.run(final_output, feed_dict={\n",
    "        x_data: x_vals_test\n",
    "    })]\n",
    "    train_preds = [1.0 if x[0] < 2500 else 0.0 for x in sess.run(final_output, feed_dict={\n",
    "        x_data: x_vals_train\n",
    "    })]\n",
    "    test_acc = np.mean([x == y for x, y in zip(test_preds, test_actuals)])\n",
    "    train_acc = np.mean([x == y for x, y in zip(train_preds, train_actuals)])\n",
    "    print('On predicting the category of low birthweight from regression output (<2500g):')\n",
    "    print('Test Accuracy: {}'.format(test_acc))\n",
    "    print('Train Accuracy: {}'.format(train_acc))"
   ]
  },
  {
   "cell_type": "code",
   "execution_count": 38,
   "metadata": {},
   "outputs": [
    {
     "data": {
      "image/png": "[encoded data removed]",
      "text/plain": [
       "<matplotlib.figure.Figure at 0x7f803c6e1ef0>"
      ]
     },
     "metadata": {},
     "output_type": "display_data"
    }
   ],
   "source": [
    "plt.plot(loss_vec, 'k-', label='Train Loss')\n",
    "plt.plot(test_loss, 'r--', label='Test Loss')\n",
    "plt.title('Loss (MSE) per Generation')\n",
    "plt.xlabel('Generation')\n",
    "plt.ylabel('Loss')\n",
    "plt.legend(loc='lower right')\n",
    "plt.show()"
   ]
  },
  {
   "cell_type": "code",
   "execution_count": null,
   "metadata": {},
   "outputs": [],
   "source": []
  },
  {
   "cell_type": "code",
   "execution_count": null,
   "metadata": {},
   "outputs": [],
   "source": []
  }
 ],
 "metadata": {
  "kernelspec": {
   "display_name": "Python 3",
   "language": "python",
   "name": "python3"
  },
  "language_info": {
   "codemirror_mode": {
    "name": "ipython",
    "version": 3
   },
   "file_extension": ".py",
   "mimetype": "text/x-python",
   "name": "python",
   "nbconvert_exporter": "python",
   "pygments_lexer": "ipython3",
   "version": "3.6.3"
  }
 },
 "nbformat": 4,
 "nbformat_minor": 2
}
