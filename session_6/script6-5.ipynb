{
 "cells": [
  {
   "cell_type": "code",
   "execution_count": 1,
   "metadata": {},
   "outputs": [],
   "source": [
    "import tensorflow as tf\n",
    "import numpy as np\n",
    "from tensorflow.python.framework import ops"
   ]
  },
  {
   "cell_type": "code",
   "execution_count": 2,
   "metadata": {},
   "outputs": [],
   "source": [
    "data_size = 25\n",
    "data_1d = np.random.normal(size=data_size)"
   ]
  },
  {
   "cell_type": "code",
   "execution_count": 3,
   "metadata": {},
   "outputs": [],
   "source": [
    "x_input_1d = tf.placeholder(dtype=tf.float32, shape=[data_size])"
   ]
  },
  {
   "cell_type": "code",
   "execution_count": 4,
   "metadata": {},
   "outputs": [],
   "source": [
    "def conv_layer_1d(input_1d, my_filter):\n",
    "    input_2d = tf.expand_dims(input_1d, 0)\n",
    "    input_3d = tf.expand_dims(input_2d, 0)\n",
    "    input_4d = tf.expand_dims(input_3d, 3)\n",
    "    convolution_output = tf.nn.conv2d(input_4d, filter=my_filter, strides=[1, 1, 1, 1], padding=\"VALID\")\n",
    "    conv_output_1d = tf.squeeze(convolution_output)\n",
    "    return conv_output_1d\n",
    "\n",
    "my_filter_1d = tf.Variable(tf.random_normal(shape=[1, 5, 1, 1]))\n",
    "my_convolution_output_1d = conv_layer_1d(x_input_1d, my_filter_1d)"
   ]
  },
  {
   "cell_type": "code",
   "execution_count": 5,
   "metadata": {},
   "outputs": [],
   "source": [
    "def activation_1d(input_1d):\n",
    "    return tf.nn.relu(input_1d)\n",
    "\n",
    "my_activation_output_1d = activation_1d(my_convolution_output_1d)"
   ]
  },
  {
   "cell_type": "code",
   "execution_count": 6,
   "metadata": {},
   "outputs": [],
   "source": [
    "def max_pool_1d(input_1d, width):\n",
    "    input_2d = tf.expand_dims(input_1d, 0)\n",
    "    input_3d = tf.expand_dims(input_2d, 0)\n",
    "    input_4d = tf.expand_dims(input_3d, 3)\n",
    "    pool_output = tf.nn.max_pool(input_4d, ksize=[1, 1, width, 1], strides=[1, 1, 1, 1], padding=\"VALID\")\n",
    "    pool_output_1d = tf.squeeze(pool_output)\n",
    "    return pool_output_1d\n",
    "\n",
    "my_maxpool_output_1d = max_pool_1d(my_activation_output_1d, width=5)"
   ]
  },
  {
   "cell_type": "code",
   "execution_count": 7,
   "metadata": {},
   "outputs": [],
   "source": [
    "def fully_connected_1d(input_layer, num_outputs):\n",
    "    weight_shape = tf.squeeze(tf.stack(\n",
    "        [tf.shape(input_layer), [num_outputs]]))\n",
    "    weight = tf.random_normal(weight_shape, stddev=0.1)\n",
    "    bias = tf.random_normal(shape=[num_outputs])\n",
    "    input_layer_2d = tf.expand_dims(input_layer, 0)\n",
    "    full_output = tf.add(tf.matmul(input_layer_2d, weight), bias)\n",
    "    full_output_1d = tf.squeeze(full_output)\n",
    "    return full_output_1d\n",
    "\n",
    "my_full_output_1d = fully_connected_1d(my_maxpool_output_1d, 5)"
   ]
  },
  {
   "cell_type": "code",
   "execution_count": 8,
   "metadata": {},
   "outputs": [
    {
     "name": "stdout",
     "output_type": "stream",
     "text": [
      "Input = array of length 25\n",
      "Convolution w/filter, length = 5, stride size = 1, results in an array of length 21:\n",
      "[-2.453808   -0.30292547 -0.78732765 -0.12066847  1.096965    0.48903883\n",
      "  1.3645414  -0.22699374  0.97743744 -1.1542246   0.7699039   0.26018286\n",
      "  1.4030986  -1.3333541   0.6426519   0.44966814  0.35361156  1.2213199\n",
      " -1.8093159  -1.2578562  -0.46365836]\n",
      "\n",
      "Input = the above array of length 21\n",
      "ReLU element wise returns the array of length 21:\n",
      "[0.         0.         0.         0.         1.096965   0.48903883\n",
      " 1.3645414  0.         0.97743744 0.         0.7699039  0.26018286\n",
      " 1.4030986  0.         0.6426519  0.44966814 0.35361156 1.2213199\n",
      " 0.         0.         0.        ]\n",
      "\n",
      "Input = the above array of length 21\n",
      "MaxPool, window length = 5, stride size = 1, results in the array of length 17\n",
      "[1.096965   1.096965   1.3645414  1.3645414  1.3645414  1.3645414\n",
      " 1.3645414  0.97743744 1.4030986  1.4030986  1.4030986  1.4030986\n",
      " 1.4030986  1.2213199  1.2213199  1.2213199  1.2213199 ]\n",
      "\n",
      "Input = the above array of length 17\n",
      "Fully connected layer on all four rows with five outputs:\n",
      "[ 1.4555988  -1.481251    0.74286914 -0.9571282   1.9069947 ]\n"
     ]
    }
   ],
   "source": [
    "with tf.Session() as sess:\n",
    "    bs = 25\n",
    "    data_1d = np.random.normal(size=data_size)\n",
    "    init = tf.global_variables_initializer()\n",
    "    sess.run(init)\n",
    "    feed_dict = {x_input_1d: data_1d}\n",
    "    \n",
    "    print('Input = array of length 25')\n",
    "    print('Convolution w/filter, length = 5, stride size = 1, '\n",
    "          'results in an array of length 21:')\n",
    "    print(sess.run(my_convolution_output_1d, feed_dict=feed_dict))\n",
    "    print('\\nInput = the above array of length 21')\n",
    "    print('ReLU element wise returns the array of length 21:')\n",
    "    print(sess.run(my_activation_output_1d, feed_dict=feed_dict))\n",
    "    print('\\nInput = the above array of length 21')\n",
    "    print('MaxPool, window length = 5, stride size = 1, '\n",
    "          'results in the array of length 17')\n",
    "    print(sess.run(my_maxpool_output_1d, feed_dict=feed_dict))\n",
    "    print('\\nInput = the above array of length 17')\n",
    "    print('Fully connected layer on all four rows with five outputs:')\n",
    "    print(sess.run(my_full_output_1d, feed_dict=feed_dict))"
   ]
  },
  {
   "cell_type": "code",
   "execution_count": 15,
   "metadata": {},
   "outputs": [],
   "source": [
    "ops.reset_default_graph()\n",
    "data_size = [10, 10]\n",
    "data_2d = np.random.normal(size=data_size)\n",
    "x_input_2d = tf.placeholder(dtype=tf.float32, shape=data_size)"
   ]
  },
  {
   "cell_type": "code",
   "execution_count": 16,
   "metadata": {},
   "outputs": [],
   "source": [
    "def conv_layer_2d(input_2d, my_filter):\n",
    "    input_3d = tf.expand_dims(input_2d, 0)\n",
    "    input_4d = tf.expand_dims(input_3d, 3)\n",
    "    convolution_output = tf.nn.conv2d(input_4d, filter=my_filter, strides=[1, 2, 2, 1], padding=\"VALID\")\n",
    "    conv_output_2d = tf.squeeze(convolution_output)\n",
    "    return conv_output_2d\n",
    "\n",
    "my_filter_2d = tf.Variable(tf.random_normal(shape=[2, 2, 1, 1]))\n",
    "my_convolution_output_2d = conv_layer_2d(x_input_2d, my_filter_2d)"
   ]
  },
  {
   "cell_type": "code",
   "execution_count": 17,
   "metadata": {},
   "outputs": [],
   "source": [
    "def activation_2d(input_2d):\n",
    "    return tf.nn.relu(input_2d)\n",
    "\n",
    "my_activation_output_2d = activation_2d(my_convolution_output_2d)"
   ]
  },
  {
   "cell_type": "code",
   "execution_count": 18,
   "metadata": {},
   "outputs": [],
   "source": [
    "def max_pool_2d(input_2d, width, height):\n",
    "    input_3d = tf.expand_dims(input_2d, 0)\n",
    "    input_4d = tf.expand_dims(input_3d, 3)\n",
    "    pool_output = tf.nn.max_pool(input_4d, ksize=[1, height, width, 1], strides=[1, 1, 1, 1], padding=\"VALID\")\n",
    "    pool_output_2d = tf.squeeze(pool_output)\n",
    "    return pool_output_2d\n",
    "\n",
    "my_maxpool_output_2d = max_pool_2d(my_activation_output_2d, width=2, height=2)"
   ]
  },
  {
   "cell_type": "code",
   "execution_count": 19,
   "metadata": {},
   "outputs": [],
   "source": [
    "def fully_connected_2d(input_layer, num_outputs):\n",
    "    flat_input = tf.reshape(input_layer, [-1])\n",
    "    weight_shape = tf.squeeze(tf.stack(\n",
    "        [tf.shape(flat_input), [num_outputs]]))\n",
    "    weight = tf.random_normal(weight_shape, stddev=0.1)\n",
    "    bias = tf.random_normal(shape=[num_outputs])\n",
    "    input_layer_2d = tf.expand_dims(flat_input, 0)\n",
    "    full_output = tf.add(tf.matmul(input_layer_2d, weight), bias)\n",
    "    full_output_2d = tf.squeeze(full_output)\n",
    "    return full_output_2d\n",
    "\n",
    "my_full_output_2d = fully_connected_2d(my_maxpool_output_2d, 5)"
   ]
  },
  {
   "cell_type": "code",
   "execution_count": 20,
   "metadata": {},
   "outputs": [
    {
     "name": "stdout",
     "output_type": "stream",
     "text": [
      "Input = [10, 10] array\n",
      "[2, 2] Convolution, stride size = [2, 2], results in the [5, 5] array\n",
      "[[ 2.436744    1.5442536   2.332376    0.04886294 -0.7926846 ]\n",
      " [ 1.3266189  -1.0789306   0.88776016 -2.386244   -0.20309585]\n",
      " [-1.8694111   2.5450678  -0.3218176  -1.110787    0.27509728]\n",
      " [-0.60600936  1.4475003  -1.5691186   1.2776353  -3.5035255 ]\n",
      " [ 0.9595084  -2.6093416  -1.0785704  -1.8451105   1.617766  ]]\n",
      "\n",
      "Input = the above [5, 5] array\n",
      "ReLU element wise returns the [5, 5] array\n",
      "[[2.436744   1.5442536  2.332376   0.04886294 0.        ]\n",
      " [1.3266189  0.         0.88776016 0.         0.        ]\n",
      " [0.         2.5450678  0.         0.         0.27509728]\n",
      " [0.         1.4475003  0.         1.2776353  0.        ]\n",
      " [0.9595084  0.         0.         0.         1.617766  ]]\n",
      "\n",
      "Input = the above [5, 5]array\n",
      "MaxPool, stride size = [1, 1], results in the [4, 4] array\n",
      "[[2.436744   2.332376   2.332376   0.04886294]\n",
      " [2.5450678  2.5450678  0.88776016 0.27509728]\n",
      " [2.5450678  2.5450678  1.2776353  1.2776353 ]\n",
      " [1.4475003  1.4475003  1.2776353  1.617766  ]]\n",
      "\n",
      "Input = the above [4, 4] array\n",
      "Fully connected layer on all four rows with five outputs:\n",
      "[-0.4785519  -0.7915392  -2.3089035  -0.92522955  0.48915154]\n"
     ]
    }
   ],
   "source": [
    "with tf.Session() as sess:\n",
    "    init = tf.global_variables_initializer()\n",
    "    sess.run(init)\n",
    "    feed_dict = {x_input_2d: data_2d}\n",
    "    \n",
    "    print('Input = [10, 10] array')\n",
    "    print('[2, 2] Convolution, stride size = [2, 2], '\n",
    "          'results in the [5, 5] array')\n",
    "    print(sess.run(my_convolution_output_2d, feed_dict=feed_dict))\n",
    "    print('\\nInput = the above [5, 5] array')\n",
    "    print('ReLU element wise returns the [5, 5] array')\n",
    "    print(sess.run(my_activation_output_2d, feed_dict=feed_dict))\n",
    "    print('\\nInput = the above [5, 5]array')\n",
    "    print('MaxPool, stride size = [1, 1], '\n",
    "          'results in the [4, 4] array')\n",
    "    print(sess.run(my_maxpool_output_2d, feed_dict=feed_dict))\n",
    "    print('\\nInput = the above [4, 4] array')\n",
    "    print('Fully connected layer on all four rows with five outputs:')\n",
    "    print(sess.run(my_full_output_2d, feed_dict=feed_dict))"
   ]
  },
  {
   "cell_type": "code",
   "execution_count": null,
   "metadata": {},
   "outputs": [],
   "source": []
  }
 ],
 "metadata": {
  "kernelspec": {
   "display_name": "Python 3",
   "language": "python",
   "name": "python3"
  },
  "language_info": {
   "codemirror_mode": {
    "name": "ipython",
    "version": 3
   },
   "file_extension": ".py",
   "mimetype": "text/x-python",
   "name": "python",
   "nbconvert_exporter": "python",
   "pygments_lexer": "ipython3",
   "version": "3.6.3"
  }
 },
 "nbformat": 4,
 "nbformat_minor": 2
}
