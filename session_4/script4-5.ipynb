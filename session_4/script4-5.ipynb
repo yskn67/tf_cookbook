{
 "cells": [
  {
   "cell_type": "code",
   "execution_count": 1,
   "metadata": {},
   "outputs": [],
   "source": [
    "import matplotlib.pyplot as plt\n",
    "import numpy as np\n",
    "import tensorflow as tf\n",
    "from sklearn import datasets"
   ]
  },
  {
   "cell_type": "code",
   "execution_count": 2,
   "metadata": {},
   "outputs": [],
   "source": [
    "iris = datasets.load_iris()\n",
    "x_vals = np.array([[x[0], x[3]] for x in iris.data])\n",
    "y_vals = np.array([1 if y == 0 else -1 for y in iris.target])\n",
    "class1_x = [x[0] for i, x in enumerate(x_vals) if y_vals[i] == 1]\n",
    "class1_y = [x[1] for i, x in enumerate(x_vals) if y_vals[i] == 1]\n",
    "class2_x = [x[0] for i, x in enumerate(x_vals) if y_vals[i] == -1]\n",
    "class2_y = [x[1] for i, x in enumerate(x_vals) if y_vals[i] == -1]"
   ]
  },
  {
   "cell_type": "code",
   "execution_count": 6,
   "metadata": {},
   "outputs": [],
   "source": [
    "with tf.Session() as sess:\n",
    "    bs = 150\n",
    "    lr = 0.01\n",
    "    it = 300\n",
    "    x_data = tf.placeholder(shape=[None, 2], dtype=tf.float32)\n",
    "    y_target = tf.placeholder(shape=[None, 1], dtype=tf.float32)\n",
    "    prediction_grid = tf.placeholder(shape=[None, 2], dtype=tf.float32)\n",
    "    \n",
    "    b = tf.Variable(tf.random_normal(shape=[1, bs]))\n",
    "    \n",
    "    gamma = tf.constant(-1.0)\n",
    "    dist = tf.reduce_sum(tf.square(x_data), 1)\n",
    "    dist = tf.reshape(dist, [-1, 1])\n",
    "    sq_dists = tf.add(tf.subtract(dist, tf.multiply(2.,\n",
    "               tf.matmul(x_data, tf.transpose(x_data)))), tf.transpose(dist))\n",
    "    my_kernel = tf.exp(tf.multiply(gamma, tf.abs(sq_dists)))\n",
    "    \n",
    "    first_term = tf.reduce_sum(b)\n",
    "    b_vec_cross = tf.matmul(tf.transpose(b), b)\n",
    "    y_target_cross = tf.matmul(y_target, tf.transpose(y_target))\n",
    "    second_term = tf.reduce_sum(tf.multiply(my_kernel,\n",
    "                                tf.multiply(b_vec_cross, y_target_cross)))\n",
    "    loss = tf.negative(tf.subtract(first_term, second_term))\n",
    "    \n",
    "    rA = tf.reshape(tf.reduce_sum(tf.square(x_data), 1), [-1, 1])\n",
    "    rB = tf.reshape(tf.reduce_sum(tf.square(prediction_grid), 1), [-1, 1])\n",
    "    pred_sq_dist = tf.add(tf.subtract(rA, tf.multiply(2.,\n",
    "                   tf.matmul(x_data, tf.transpose(prediction_grid)))),\n",
    "                   tf.transpose(rB))\n",
    "    pred_kernel = tf.exp(tf.multiply(gamma, tf.abs(pred_sq_dist)))\n",
    "    \n",
    "    prediction_output = tf.matmul(tf.multiply(tf.transpose(y_target), b),\n",
    "                                  pred_kernel)\n",
    "    prediction = tf.sign(prediction_output - tf.reduce_mean(prediction_output))\n",
    "    accuracy = tf.reduce_mean(tf.cast(tf.equal(tf.squeeze(prediction),\n",
    "                                      tf.squeeze(y_target)), tf.float32))\n",
    "    \n",
    "    my_opt = tf.train.GradientDescentOptimizer(lr)\n",
    "    train_step = my_opt.minimize(loss)\n",
    "    \n",
    "    init = tf.global_variables_initializer()\n",
    "    sess.run(init)\n",
    "    \n",
    "    loss_vec = []\n",
    "    batch_accuracy = []\n",
    "    for i in range(it):\n",
    "        rand_index = np.random.choice(len(x_vals), size=bs)\n",
    "        rand_x = x_vals[rand_index]\n",
    "        rand_y = np.transpose([y_vals[rand_index]])\n",
    "        sess.run(train_step, feed_dict={x_data: rand_x, y_target: rand_y})\n",
    "        temp_loss = sess.run(loss, feed_dict={x_data: rand_x, y_target: rand_y})\n",
    "        loss_vec.append(temp_loss)\n",
    "        acc_temp = sess.run(accuracy, feed_dict={x_data: rand_x,\n",
    "                                                 y_target: rand_y,\n",
    "                                                 prediction_grid: rand_x})\n",
    "        batch_accuracy.append(acc_temp)\n",
    "    \n",
    "    x_min, x_max, = x_vals[:, 0].min() - 1, x_vals[:, 0].max() + 1\n",
    "    y_min, y_max, = x_vals[:, 1].min() - 1, x_vals[:, 1].max() + 1\n",
    "    xx, yy = np.meshgrid(np.arange(x_min, x_max, 0.02),\n",
    "                         np.arange(y_min, y_max, 0.02))\n",
    "    grid_points = np.c_[xx.ravel(), yy.ravel()]\n",
    "    [grid_predictions] = sess.run(prediction, feed_dict={\n",
    "        x_data: rand_x,\n",
    "        y_target: rand_y,\n",
    "        prediction_grid: grid_points\n",
    "    })\n",
    "    grid_predictions = grid_predictions.reshape(xx.shape)"
   ]
  },
  {
   "cell_type": "code",
   "execution_count": 7,
   "metadata": {},
   "outputs": [
    {
     "data": {
      "image/png": "[encoded data removed]",
      "text/plain": [
       "<matplotlib.figure.Figure at 0x7f22ec7ac5f8>"
      ]
     },
     "metadata": {},
     "output_type": "display_data"
    }
   ],
   "source": [
    "plt.contourf(xx, yy, grid_predictions, cmap=plt.cm.Paired, alpha=0.8)\n",
    "plt.plot(class1_x, class1_y, 'ro', label='I. setosa')\n",
    "plt.plot(class2_x, class2_y, 'kx', label='Non setosa')\n",
    "plt.title('Gaussian SVM Results on Iris Data')\n",
    "plt.xlabel('Pedal Length')\n",
    "plt.ylabel('Sepal Width')\n",
    "plt.legend(loc='lower right')\n",
    "plt.ylim([-0.5, 3.0])\n",
    "plt.xlim([3.5, 8.5])\n",
    "plt.show()"
   ]
  },
  {
   "cell_type": "code",
   "execution_count": null,
   "metadata": {},
   "outputs": [],
   "source": []
  }
 ],
 "metadata": {
  "kernelspec": {
   "display_name": "Python 3",
   "language": "python",
   "name": "python3"
  },
  "language_info": {
   "codemirror_mode": {
    "name": "ipython",
    "version": 3
   },
   "file_extension": ".py",
   "mimetype": "text/x-python",
   "name": "python",
   "nbconvert_exporter": "python",
   "pygments_lexer": "ipython3",
   "version": "3.6.3"
  }
 },
 "nbformat": 4,
 "nbformat_minor": 2
}
