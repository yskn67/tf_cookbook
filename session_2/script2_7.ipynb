{
 "cells": [
  {
   "cell_type": "code",
   "execution_count": 11,
   "metadata": {},
   "outputs": [],
   "source": [
    "import matplotlib.pyplot as plt\n",
    "import numpy as np\n",
    "import tensorflow as tf\n",
    "%matplotlib inline"
   ]
  },
  {
   "cell_type": "code",
   "execution_count": 5,
   "metadata": {},
   "outputs": [],
   "source": [
    "x_vals = np.random.normal(1, 0.1, 100)\n",
    "y_vals = np.repeat(10., 100)\n",
    "x_data = tf.placeholder(shape=[None, 1], dtype=tf.float32)\n",
    "y_target = tf.placeholder(shape=[None, 1], dtype=tf.float32)\n",
    "A = tf.Variable(tf.random_normal(shape=[1, 1]))"
   ]
  },
  {
   "cell_type": "code",
   "execution_count": 6,
   "metadata": {},
   "outputs": [
    {
     "name": "stdout",
     "output_type": "stream",
     "text": [
      "Step #5 A = [[1.2115939]]\n",
      "Loss = 77.22889\n",
      "Step #10 A = [[2.8110113]]\n",
      "Loss = 52.332813\n",
      "Step #15 A = [[4.1307445]]\n",
      "Loss = 34.210762\n",
      "Step #20 A = [[5.2062707]]\n",
      "Loss = 24.316782\n",
      "Step #25 A = [[6.0785446]]\n",
      "Loss = 16.255737\n",
      "Step #30 A = [[6.7798643]]\n",
      "Loss = 10.19471\n",
      "Step #35 A = [[7.3630233]]\n",
      "Loss = 7.9291887\n",
      "Step #40 A = [[7.82672]]\n",
      "Loss = 4.396379\n",
      "Step #45 A = [[8.191135]]\n",
      "Loss = 3.0410092\n",
      "Step #50 A = [[8.499724]]\n",
      "Loss = 2.8611717\n",
      "Step #55 A = [[8.760194]]\n",
      "Loss = 2.5468059\n",
      "Step #60 A = [[8.984958]]\n",
      "Loss = 1.6887598\n",
      "Step #65 A = [[9.1693]]\n",
      "Loss = 2.2224822\n",
      "Step #70 A = [[9.330034]]\n",
      "Loss = 2.2250638\n",
      "Step #75 A = [[9.44195]]\n",
      "Loss = 1.3601869\n",
      "Step #80 A = [[9.536871]]\n",
      "Loss = 1.3373778\n",
      "Step #85 A = [[9.572408]]\n",
      "Loss = 1.1341621\n",
      "Step #90 A = [[9.642732]]\n",
      "Loss = 1.566212\n",
      "Step #95 A = [[9.71733]]\n",
      "Loss = 1.0241953\n",
      "Step #100 A = [[9.729363]]\n",
      "Loss = 1.1735897\n"
     ]
    }
   ],
   "source": [
    "with tf.Session() as sess:\n",
    "    batch_size = 20\n",
    "    \n",
    "    my_output = tf.matmul(x_data, A)\n",
    "    loss = tf.reduce_mean(tf.square(my_output - y_target))\n",
    "    init = tf.global_variables_initializer()\n",
    "    sess.run(init)\n",
    "    \n",
    "    my_opt = tf.train.GradientDescentOptimizer(0.02)\n",
    "    train_step = my_opt.minimize(loss)\n",
    "    \n",
    "    loss_batch = []\n",
    "    for i in range(100):\n",
    "        rand_index = np.random.choice(100, size=batch_size)\n",
    "        rand_x = np.transpose([x_vals[rand_index]])\n",
    "        rand_y = np.transpose([y_vals[rand_index]])\n",
    "        sess.run(train_step, feed_dict={x_data: rand_x, y_target: rand_y})\n",
    "        \n",
    "        if (i + 1) % 5 == 0:\n",
    "            print('Step #' + str(i + 1) + ' A = ' + str(sess.run(A)))\n",
    "            temp_loss = sess.run(loss, feed_dict={x_data: rand_x, y_target: rand_y})\n",
    "            print('Loss = ' + str(temp_loss))\n",
    "            loss_batch.append(temp_loss)"
   ]
  },
  {
   "cell_type": "code",
   "execution_count": 9,
   "metadata": {},
   "outputs": [
    {
     "name": "stdout",
     "output_type": "stream",
     "text": [
      "Step #5 A = [[1.3100175]]\n",
      "Loss = 74.537704\n",
      "Step #10 A = [[2.9111288]]\n",
      "Loss = 49.77268\n",
      "Step #15 A = [[4.219282]]\n",
      "Loss = 36.307713\n",
      "Step #20 A = [[5.2640924]]\n",
      "Loss = 24.709673\n",
      "Step #25 A = [[6.141569]]\n",
      "Loss = 16.526257\n",
      "Step #30 A = [[6.803781]]\n",
      "Loss = 8.800511\n",
      "Step #35 A = [[7.392436]]\n",
      "Loss = 5.5603585\n",
      "Step #40 A = [[7.909409]]\n",
      "Loss = 12.609991\n",
      "Step #45 A = [[8.31452]]\n",
      "Loss = 2.7007923\n",
      "Step #50 A = [[8.573985]]\n",
      "Loss = 3.4418938\n",
      "Step #55 A = [[8.814038]]\n",
      "Loss = 2.813644\n",
      "Step #60 A = [[8.871798]]\n",
      "Loss = 2.1362448\n",
      "Step #65 A = [[9.006258]]\n",
      "Loss = 0.5857714\n",
      "Step #70 A = [[9.179193]]\n",
      "Loss = 0.37097186\n",
      "Step #75 A = [[9.395045]]\n",
      "Loss = 5.4743824\n",
      "Step #80 A = [[9.598371]]\n",
      "Loss = 0.0014150183\n",
      "Step #85 A = [[9.603069]]\n",
      "Loss = 0.90671015\n",
      "Step #90 A = [[9.737887]]\n",
      "Loss = 0.35403326\n",
      "Step #95 A = [[9.839732]]\n",
      "Loss = 1.5434326\n",
      "Step #100 A = [[9.879483]]\n",
      "Loss = 1.6006072\n"
     ]
    }
   ],
   "source": [
    "with tf.Session() as sess:\n",
    "    my_output = tf.matmul(x_data, A)\n",
    "    loss = tf.reduce_mean(tf.square(my_output - y_target))\n",
    "    init = tf.global_variables_initializer()\n",
    "    sess.run(init)\n",
    "    \n",
    "    my_opt = tf.train.GradientDescentOptimizer(0.02)\n",
    "    train_step = my_opt.minimize(loss)\n",
    "    \n",
    "    loss_stochastic = []\n",
    "    for i in range(100):\n",
    "        rand_index = np.random.choice(100)\n",
    "        rand_x = [[x_vals[rand_index]]]\n",
    "        rand_y = [[y_vals[rand_index]]]\n",
    "        sess.run(train_step, feed_dict={x_data: rand_x, y_target: rand_y})\n",
    "        \n",
    "        if (i + 1) % 5 == 0:\n",
    "            print('Step #' + str(i + 1) + ' A = ' + str(sess.run(A)))\n",
    "            temp_loss = sess.run(loss, feed_dict={x_data: rand_x, y_target: rand_y})\n",
    "            print('Loss = ' + str(temp_loss))\n",
    "            loss_stochastic.append(temp_loss)"
   ]
  },
  {
   "cell_type": "code",
   "execution_count": 12,
   "metadata": {},
   "outputs": [
    {
     "data": {
      "image/png": "[encoded data removed]",
      "text/plain": [
       "<matplotlib.figure.Figure at 0x7f27cb6532e8>"
      ]
     },
     "metadata": {},
     "output_type": "display_data"
    }
   ],
   "source": [
    "plt.plot(range(0, 100, 5), loss_stochastic, 'b--', label='Stochastic Loss')\n",
    "plt.plot(range(0, 100, 5), loss_batch, 'r--', label='Batch Loss, size=20')\n",
    "plt.legend(loc='upper right', prop={'size': 11})\n",
    "plt.show()"
   ]
  },
  {
   "cell_type": "code",
   "execution_count": null,
   "metadata": {},
   "outputs": [],
   "source": []
  }
 ],
 "metadata": {
  "kernelspec": {
   "display_name": "Python 3",
   "language": "python",
   "name": "python3"
  },
  "language_info": {
   "codemirror_mode": {
    "name": "ipython",
    "version": 3
   },
   "file_extension": ".py",
   "mimetype": "text/x-python",
   "name": "python",
   "nbconvert_exporter": "python",
   "pygments_lexer": "ipython3",
   "version": "3.6.3"
  }
 },
 "nbformat": 4,
 "nbformat_minor": 2
}
