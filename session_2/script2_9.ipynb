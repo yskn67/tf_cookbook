{
 "cells": [
  {
   "cell_type": "code",
   "execution_count": 8,
   "metadata": {},
   "outputs": [],
   "source": [
    "import matplotlib.pyplot as plt\n",
    "import numpy as np\n",
    "import tensorflow as tf\n",
    "from tensorflow.python.framework import ops"
   ]
  },
  {
   "cell_type": "code",
   "execution_count": 7,
   "metadata": {},
   "outputs": [
    {
     "name": "stdout",
     "output_type": "stream",
     "text": [
      "Step #25 A = [[6.5324116]]\n",
      "Loss = 12.897024\n",
      "Step #50 A = [[8.642842]]\n",
      "Loss = 1.9930998\n",
      "Step #75 A = [[9.358895]]\n",
      "Loss = 0.96610075\n",
      "Step #100 A = [[9.617059]]\n",
      "Loss = 1.4602774\n",
      "MSE on test: 1.02\n",
      "MSE on train: 0.86\n"
     ]
    }
   ],
   "source": [
    "with tf.Session() as sess:\n",
    "    batch_size = 25\n",
    "    \n",
    "    x_vals = np.random.normal(1, 0.1, 100)\n",
    "    y_vals = np.repeat(10., 100)\n",
    "    x_data = tf.placeholder(shape=[None, 1], dtype=tf.float32)\n",
    "    y_target = tf.placeholder(shape=[None, 1], dtype=tf.float32)\n",
    "    \n",
    "    train_indices = np.random.choice(len(x_vals), round(len(x_vals) * 0.8), replace=False)\n",
    "    test_indices = np.array(list(set(range(len(x_vals))) - set(train_indices)))\n",
    "    \n",
    "    x_vals_train = x_vals[train_indices]\n",
    "    x_vals_test = x_vals[test_indices]\n",
    "    y_vals_train = y_vals[train_indices]\n",
    "    y_vals_test = y_vals[test_indices]\n",
    "    \n",
    "    A = tf.Variable(tf.random_normal(shape=[1, 1]))\n",
    "    \n",
    "    my_output = tf.matmul(x_data, A)\n",
    "    loss = tf.reduce_mean(tf.square(my_output - y_target))\n",
    "    \n",
    "    my_opt = tf.train.GradientDescentOptimizer(0.02)\n",
    "    train_step = my_opt.minimize(loss)\n",
    "    \n",
    "    init = tf.global_variables_initializer()\n",
    "    sess.run(init)\n",
    "    \n",
    "    for i in range(100):\n",
    "        rand_index = np.random.choice(len(x_vals_train), size=batch_size)\n",
    "        rand_x = np.transpose([x_vals_train[rand_index]])\n",
    "        rand_y = np.transpose([y_vals_train[rand_index]])\n",
    "        sess.run(train_step, feed_dict={x_data: rand_x, y_target: rand_y})\n",
    "        \n",
    "        if (i + 1) % 25 == 0:\n",
    "            print('Step #' + str(i + 1) + ' A = ' + str(sess.run(A)))\n",
    "            print('Loss = ' + str(sess.run(loss,\n",
    "                                           feed_dict={\n",
    "                                               x_data: rand_x,\n",
    "                                               y_target: rand_y,\n",
    "                                           })))\n",
    "    \n",
    "    mse_test = sess.run(loss, feed_dict={x_data: np.transpose([x_vals_test]),\n",
    "                                         y_target: np.transpose([y_vals_test])})\n",
    "    mse_train = sess.run(loss, feed_dict={x_data: np.transpose([x_vals_train]),\n",
    "                                          y_target: np.transpose([y_vals_train])})\n",
    "    print('MSE on test: ' + str(np.round(mse_test, 2)))\n",
    "    print('MSE on train: ' + str(np.round(mse_train, 2)))"
   ]
  },
  {
   "cell_type": "code",
   "execution_count": 14,
   "metadata": {},
   "outputs": [
    {
     "name": "stdout",
     "output_type": "stream",
     "text": [
      "Step #200 A = [5.0767245]\n",
      "Loss = 1.8271196\n",
      "Step #400 A = [1.239083]\n",
      "Loss = 0.82220703\n",
      "Step #600 A = [-0.02201965]\n",
      "Loss = 0.30962974\n",
      "Step #800 A = [-0.3269832]\n",
      "Loss = 0.31343314\n",
      "Step #1000 A = [-0.3801617]\n",
      "Loss = 0.28849047\n",
      "Step #1200 A = [-0.383574]\n",
      "Loss = 0.28545815\n",
      "Step #1400 A = [-0.36938766]\n",
      "Loss = 0.3255482\n",
      "Step #1600 A = [-0.41596922]\n",
      "Loss = 0.28014314\n",
      "Step #1800 A = [-0.40470716]\n",
      "Loss = 0.2578758\n",
      "Accuracy on train set: 0.9\n",
      "Accuracy on test set: 0.95\n"
     ]
    }
   ],
   "source": [
    "ops.reset_default_graph()\n",
    "with tf.Session() as sess:\n",
    "    batch_size = 25\n",
    "    x_vals = np.concatenate((np.random.normal(-1, 1, 50),\n",
    "                             np.random.normal(2, 1, 50)))\n",
    "    y_vals = np.concatenate((np.repeat(0., 50), np.repeat(1., 50)))\n",
    "    x_data = tf.placeholder(shape=[1, None], dtype=tf.float32)\n",
    "    y_target = tf.placeholder(shape=[1, None], dtype=tf.float32)\n",
    "    \n",
    "    train_indices = np.random.choice(len(x_vals), round(len(x_vals) * 0.8),\n",
    "                                     replace=False)\n",
    "    test_indices = np.array(list(set(range(len(x_vals))) - set(train_indices)))\n",
    "    \n",
    "    x_vals_train = x_vals[train_indices]\n",
    "    x_vals_test = x_vals[test_indices]\n",
    "    y_vals_train = y_vals[train_indices]\n",
    "    y_vals_test = y_vals[test_indices]\n",
    "    \n",
    "    A = tf.Variable(tf.random_normal(mean=10, shape=[1]))\n",
    "    \n",
    "    my_output = tf.add(x_data, A)\n",
    "    xentropy = tf.reduce_mean(tf.nn.sigmoid_cross_entropy_with_logits(\n",
    "        logits=my_output, labels=y_target))\n",
    "    \n",
    "    my_opt = tf.train.GradientDescentOptimizer(0.05)\n",
    "    train_step = my_opt.minimize(xentropy)\n",
    "    \n",
    "    init = tf.global_variables_initializer()\n",
    "    sess.run(init)\n",
    "    \n",
    "    for i in range(1800):\n",
    "        rand_index = np.random.choice(len(x_vals_train), size=batch_size)\n",
    "        rand_x = [x_vals_train[rand_index]]\n",
    "        rand_y = [y_vals_train[rand_index]]\n",
    "        sess.run(train_step, feed_dict={x_data: rand_x, y_target: rand_y})\n",
    "        \n",
    "        if (i + 1) % 200 == 0:\n",
    "            print('Step #' + str(i + 1) + ' A = ' + str(sess.run(A)))\n",
    "            print('Loss = ' + str(sess.run(xentropy,\n",
    "                                           feed_dict={\n",
    "                                               x_data: rand_x,\n",
    "                                               y_target: rand_y,\n",
    "                                           })))\n",
    "    \n",
    "    y_prediction = tf.squeeze(tf.round(tf.nn.sigmoid(tf.add(x_data, A))))\n",
    "    correct_prediction = tf.equal(y_prediction, y_target)\n",
    "    accuracy = tf.reduce_mean(tf.cast(correct_prediction, tf.float32))\n",
    "    acc_value_test = sess.run(accuracy,\n",
    "                              feed_dict={x_data: [x_vals_test], y_target: [y_vals_test]})\n",
    "    acc_value_train = sess.run(accuracy,\n",
    "                               feed_dict={x_data: [x_vals_train], y_target: [y_vals_train]})\n",
    "    print('Accuracy on train set: ' + str(acc_value_train))\n",
    "    print('Accuracy on test set: ' + str(acc_value_test))\n",
    "    \n",
    "    A_result = -sess.run(A)\n",
    "    bins = np.linspace(-5, 5, 50)"
   ]
  },
  {
   "cell_type": "code",
   "execution_count": 16,
   "metadata": {},
   "outputs": [
    {
     "data": {
      "image/png": "[encoded data removed]",
      "text/plain": [
       "<matplotlib.figure.Figure at 0x7fe4f813f2b0>"
      ]
     },
     "metadata": {},
     "output_type": "display_data"
    }
   ],
   "source": [
    "plt.hist(x_vals[0:50], bins, alpha=0.5, label='N(-1, 1)', color='gray')\n",
    "plt.hist(x_vals[50:100], bins[0:50], alpha=0.5, label='N(2, 1)', color='red')\n",
    "plt.plot((A_result, A_result), (0, 8), 'k--', linewidth=3,\n",
    "         label='A = ' + str(np.round(A_result, 2)))\n",
    "plt.legend(loc='upper right')\n",
    "plt.title('Binary Classifier, Accuracy=' + str(np.round(acc_value_test, 2)))\n",
    "plt.show()"
   ]
  },
  {
   "cell_type": "code",
   "execution_count": null,
   "metadata": {},
   "outputs": [],
   "source": []
  }
 ],
 "metadata": {
  "kernelspec": {
   "display_name": "Python 3",
   "language": "python",
   "name": "python3"
  },
  "language_info": {
   "codemirror_mode": {
    "name": "ipython",
    "version": 3
   },
   "file_extension": ".py",
   "mimetype": "text/x-python",
   "name": "python",
   "nbconvert_exporter": "python",
   "pygments_lexer": "ipython3",
   "version": "3.6.3"
  }
 },
 "nbformat": 4,
 "nbformat_minor": 2
}
