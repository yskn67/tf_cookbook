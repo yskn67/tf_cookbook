{
 "cells": [
  {
   "cell_type": "code",
   "execution_count": 2,
   "metadata": {},
   "outputs": [],
   "source": [
    "import matplotlib.pyplot as plt\n",
    "import numpy as np\n",
    "from sklearn import datasets\n",
    "import tensorflow as tf"
   ]
  },
  {
   "cell_type": "code",
   "execution_count": 5,
   "metadata": {},
   "outputs": [],
   "source": [
    "iris = datasets.load_iris() \n",
    "binary_target = np.array([1. if x == 0 else 0. for x in iris.target])\n",
    "iris_2d = np.array([[x[2], x[3]] for x in iris.data])"
   ]
  },
  {
   "cell_type": "code",
   "execution_count": 9,
   "metadata": {},
   "outputs": [
    {
     "name": "stdout",
     "output_type": "stream",
     "text": [
      "Step #200 A = [[8.54478]], b = [[-3.553219]]\n",
      "Step #400 A = [[10.126664]], b = [[-4.6421523]]\n",
      "Step #600 A = [[10.991569]], b = [[-5.3720465]]\n",
      "Step #800 A = [[11.727156]], b = [[-5.8694835]]\n",
      "Step #1000 A = [[12.293639]], b = [[-6.2831306]]\n"
     ]
    }
   ],
   "source": [
    "with tf.Session() as sess:\n",
    "    batch_size = 20\n",
    "    x1_data = tf.placeholder(shape=[None, 1], dtype=tf.float32)\n",
    "    x2_data = tf.placeholder(shape=[None, 1], dtype=tf.float32)\n",
    "    y_target = tf.placeholder(shape=[None, 1], dtype=tf.float32)\n",
    "    \n",
    "    A = tf.Variable(tf.random_normal(shape=[1, 1]))\n",
    "    b = tf.Variable(tf.random_normal(shape=[1, 1]))\n",
    "    \n",
    "    my_mult = tf.matmul(x2_data, A)\n",
    "    my_add = tf.add(my_mult, b)\n",
    "    my_output = tf.subtract(x1_data, my_add)\n",
    "    \n",
    "    xentropy = tf.nn.sigmoid_cross_entropy_with_logits(logits=my_output,\n",
    "                                                       labels=y_target)\n",
    "    my_opt = tf.train.GradientDescentOptimizer(0.05)\n",
    "    train_step = my_opt.minimize(xentropy)\n",
    "    \n",
    "    init = tf.global_variables_initializer()\n",
    "    sess.run(init)\n",
    "    \n",
    "    for i in range(1000):\n",
    "        rand_index = np.random.choice(len(iris_2d), size=batch_size)\n",
    "        rand_x = iris_2d[rand_index]\n",
    "        rand_x1 = np.array([[x[0]] for x in rand_x])\n",
    "        rand_x2 = np.array([[x[1]] for x in rand_x])\n",
    "        rand_y = np.array([[y] for y in binary_target[rand_index]])\n",
    "        sess.run(train_step, feed_dict={x1_data: rand_x1,\n",
    "                                        x2_data: rand_x2,\n",
    "                                        y_target: rand_y})\n",
    "        if (i + 1) % 200 == 0:\n",
    "            print('Step #' + str(i + 1) + ' A = ' + str(sess.run(A)) + ', b = ' + str(sess.run(b)))\n",
    "        \n",
    "        [[slope]] = sess.run(A)\n",
    "        [[intercept]] = sess.run(b)"
   ]
  },
  {
   "cell_type": "code",
   "execution_count": 10,
   "metadata": {},
   "outputs": [],
   "source": [
    "x = np.linspace(0, 3, num=50)\n",
    "ablineValues = []\n",
    "for i in x:\n",
    "    ablineValues.append(slope * i + intercept)"
   ]
  },
  {
   "cell_type": "code",
   "execution_count": 11,
   "metadata": {},
   "outputs": [],
   "source": [
    "setosa_x = [a[1] for i, a in enumerate(iris_2d) if binary_target[i] == 1]\n",
    "setosa_y = [a[0] for i, a in enumerate(iris_2d) if binary_target[i] == 1]\n",
    "non_setosa_x = [a[1] for i, a in enumerate(iris_2d) if binary_target[i] == 0]\n",
    "non_setosa_y = [a[0] for i, a in enumerate(iris_2d) if binary_target[i] == 0]"
   ]
  },
  {
   "cell_type": "code",
   "execution_count": 14,
   "metadata": {},
   "outputs": [
    {
     "data": {
      "image/png": "[encoded data removed]",
      "text/plain": [
       "<matplotlib.figure.Figure at 0x7f2eb809fa90>"
      ]
     },
     "metadata": {},
     "output_type": "display_data"
    }
   ],
   "source": [
    "plt.plot(setosa_x, setosa_y, 'rx', ms=10, mew=2, label='setosa')\n",
    "plt.plot(non_setosa_x, non_setosa_y, 'ro', label='Non-setosa')\n",
    "plt.plot(x, ablineValues, 'b-')\n",
    "plt.xlim([0.0, 2.7])\n",
    "plt.ylim([0.0, 7.1])\n",
    "plt.suptitle('Linear Separator For I.setosa', fontsize=20)\n",
    "plt.xlabel('Petal Length')\n",
    "plt.ylabel('Petal Width')\n",
    "plt.legend(loc='lower right')\n",
    "plt.show()"
   ]
  },
  {
   "cell_type": "code",
   "execution_count": null,
   "metadata": {},
   "outputs": [],
   "source": []
  }
 ],
 "metadata": {
  "kernelspec": {
   "display_name": "Python 3",
   "language": "python",
   "name": "python3"
  },
  "language_info": {
   "codemirror_mode": {
    "name": "ipython",
    "version": 3
   },
   "file_extension": ".py",
   "mimetype": "text/x-python",
   "name": "python",
   "nbconvert_exporter": "python",
   "pygments_lexer": "ipython3",
   "version": "3.6.3"
  }
 },
 "nbformat": 4,
 "nbformat_minor": 2
}
